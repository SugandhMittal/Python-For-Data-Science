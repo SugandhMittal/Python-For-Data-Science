{
 "cells": [
  {
   "cell_type": "code",
   "execution_count": 1,
   "metadata": {
    "colab": {
     "base_uri": "https://localhost:8080/"
    },
    "id": "inx-_66gFQpi",
    "outputId": "e09c0b93-02a0-4758-88d2-f01862bb308c"
   },
   "outputs": [
    {
     "name": "stdout",
     "output_type": "stream",
     "text": [
      "[2, 4, 6, 8, 10, 12, 14, 16, 18, 20, 22, 24, 26, 28, 30, 32, 34, 36, 38, 40, 42, 44, 46, 48, 50, 52, 54, 56, 58, 60, 62, 64, 66, 68, 70, 72, 74, 76, 78, 80, 82, 84, 86, 88, 90, 92, 94, 96, 98, 100]\n"
     ]
    }
   ],
   "source": [
    "#1. Create a list of even numbers from 1 to 100 and print it.\n",
    "\n",
    "print(list(range(2,101,2)))"
   ]
  },
  {
   "cell_type": "code",
   "execution_count": 6,
   "metadata": {
    "colab": {
     "base_uri": "https://localhost:8080/"
    },
    "id": "sjJ9HfFdFbiy",
    "outputId": "fe9099d0-7a9c-4fda-ae8e-66827fe37a0b"
   },
   "outputs": [
    {
     "name": "stdout",
     "output_type": "stream",
     "text": [
      "Type of 8 = <class 'int'>\n",
      "Type of 9.5748 = <class 'float'>\n",
      "Type of Go! = <class 'str'>\n",
      "Type of True = <class 'bool'>\n",
      "Type of [3, 'Oppenheimer'] = <class 'list'>\n",
      "Type of {8, 9, 100} = <class 'set'>\n",
      "Type of {'India': 7184, 'Russia': 7849, 'Canada': 7435} = <class 'dict'>\n"
     ]
    }
   ],
   "source": [
    "#2. Declare the following variables and print their data type. a=8; b=9.5748; c=‘Go!’;\n",
    "#d=True; e=[3,‘Oppenheimer’]; f= {9, 8, 100}; g = {‘India’ : 7184, ‘Russia’ : 7849, ‘Canada’ : 7435}\n",
    "\n",
    "a=8; b=9.5748; c='Go!'; d=True; e=[3,'Oppenheimer']; f= {9, 8, 100}; g = {'India' : 7184, 'Russia' : 7849, 'Canada' : 7435}\n",
    "l=[a,b,c,d,e,f,g]\n",
    "for var in l:\n",
    "    print('Type of',var,\"=\",type(var))"
   ]
  },
  {
   "cell_type": "code",
   "execution_count": 9,
   "metadata": {
    "colab": {
     "base_uri": "https://localhost:8080/"
    },
    "id": "ObxWEceQF_Hh",
    "outputId": "299be53a-c773-4554-a896-77b5d69f3bb3"
   },
   "outputs": [
    {
     "name": "stdout",
     "output_type": "stream",
     "text": [
      "Concatenated List = [0, 1, 2, 3, 4, 5, 6, 7, 9, 10, 20, 100, 1000]\n",
      "Final List = [0, 1, 2, 3, 4, 6, 7, 9, 10, 100, 1000]\n"
     ]
    }
   ],
   "source": [
    "#3. Given a list of numbers:[1,2,3,1,1,2,2,4,5,6,7,7,2,1,0,9,10]. Create a new list without duplicates. \n",
    "#Refrain from hard coding. Once the duplicates are removed from the list, concatenate another list with numbers \n",
    "#[20,100, 1000] to the existing list. From this list, remove values at index positions ‘[5],[10]’. \n",
    "#Sort the output. Print the lists at each stage of operation.\n",
    "\n",
    "l1=[1,2,3,1,1,2,2,4,5,6,7,7,2,1,0,9,10]\n",
    "l2 = list(set(l1))\n",
    "l3=[20,100,1000]\n",
    "l2=l2+l3\n",
    "print(\"Concatenated List =\",l2)\n",
    "index=[5,10]\n",
    "index.sort(reverse=True)\n",
    "for a in index:\n",
    "    l2.pop(a)\n",
    "print(\"Final List =\",l2)"
   ]
  },
  {
   "cell_type": "code",
   "execution_count": 48,
   "metadata": {},
   "outputs": [
    {
     "name": "stdout",
     "output_type": "stream",
     "text": [
      "Enter the number = 4\n",
      "4 is not prime\n"
     ]
    }
   ],
   "source": [
    "#4. Take an integer as an input from user and print whether the given number is a prime or not. \n",
    "#For this problem assume that user will give an integer less than 1000.\n",
    "\n",
    "a = int(input(\"Enter the number = \"))\n",
    "is_prime = True\n",
    "\n",
    "if a > 1:\n",
    "    for i in range(2, a//2+1):\n",
    "        if a % i == 0:\n",
    "            is_prime = False\n",
    "            break\n",
    "\n",
    "if is_prime and a > 1:\n",
    "    print(a, \"is prime\")\n",
    "else:\n",
    "    print(a, \"is not prime\")"
   ]
  },
  {
   "cell_type": "code",
   "execution_count": 2,
   "metadata": {},
   "outputs": [
    {
     "name": "stdout",
     "output_type": "stream",
     "text": [
      "Insert(I) / Delete(D) / Quit(Q) = i\n",
      "Enter Name = Amit\n",
      "Enter number = 9335717017\n",
      "Amit : 9335717017 inserted.\n",
      "Insert(I) / Delete(D) / Quit(Q) = i\n",
      "Enter Name = Rohan\n",
      "Enter number = 8896417563\n",
      "Rohan : 8896417563 inserted.\n",
      "Insert(I) / Delete(D) / Quit(Q) = I\n",
      "Enter Name = Darshit\n",
      "Enter number = 7357196782\n",
      "Darshit : 7357196782 inserted.\n",
      "Insert(I) / Delete(D) / Quit(Q) = I\n",
      "Enter Name = Rohan\n",
      "Enter number = 9638875219\n",
      "Rohan : 9638875219 updated.\n",
      "Insert(I) / Delete(D) / Quit(Q) = i\n",
      "Enter Name = Isha\n",
      "Enter number = 9418755876\n",
      "Isha : 9418755876 inserted.\n",
      "Insert(I) / Delete(D) / Quit(Q) = i\n",
      "Enter Name = Anjali\n",
      "Enter number = 6397422753\n",
      "Anjali : 6397422753 inserted.\n",
      "Insert(I) / Delete(D) / Quit(Q) = d\n",
      "Enter Name = Darshit\n",
      "Darshit deleted.\n",
      "Insert(I) / Delete(D) / Quit(Q) = d\n",
      "Enter Name = Vishal\n",
      "Vishal is not found.\n",
      "Insert(I) / Delete(D) / Quit(Q) = I\n",
      "Enter Name = Saumya\n",
      "Enter number = 8896416622\n",
      "Saumya : 8896416622 inserted.\n",
      "Insert(I) / Delete(D) / Quit(Q) = q\n",
      "Final Directory: {'Amit': 9335717017, 'Rohan': 9638875219, 'Isha': 9418755876, 'Anjali': 6397422753, 'Saumya': 8896416622}\n"
     ]
    }
   ],
   "source": [
    "#5. Create a dynamic phone directory. A dynamic phone directory is simply a phone directory that can \n",
    "#also handle updates just like you can update contact numbers in your mobile phone. For this problem, \n",
    "#our directory will have only two things : Name and Phone Number. After creating this directory, \n",
    "#you have to process the below updates and print the final directory. Update will be of 2 types : Insert and \n",
    "#Delete. In case a contact already exists, you need to overwrite the contact numberof that person. In case of \n",
    "#deletion, if a person does not exists in contact list, no changes have to be made. Insert, ‘Amit’, 9335717017 \n",
    "#Insert, ‘Rohan’, 8896417563 Insert, ‘Darshit’, 7357196782 Insert, ‘Rohan’, 9638875219 Insert, ‘Isha’, 9418755876 \n",
    "#Insert, ‘Anjali’, 6397422753 Delete, ‘Darshit’ Delete, ‘Vishal’ Insert, ‘Saumya’, 8896416622\n",
    "\n",
    "directory = {}\n",
    "\n",
    "def insert_contact(name, number):\n",
    "    if name in directory:\n",
    "        directory[name] = number\n",
    "        print(name, \":\", number, \"updated.\")\n",
    "    else:\n",
    "        directory[name] = number\n",
    "        print(name, \":\", number, \"inserted.\")\n",
    "\n",
    "def delete_contact(name):\n",
    "    if name in directory:\n",
    "        directory.pop(name)\n",
    "        print(name, \"deleted.\")\n",
    "    else:\n",
    "        print(name, \"is not found.\")\n",
    "\n",
    "while True:\n",
    "    choice = input(\"Insert(I) / Delete(D) / Quit(Q) = \").lower()\n",
    "\n",
    "    if choice == 'q':\n",
    "        break\n",
    "    elif choice == 'i':\n",
    "        name = input(\"Enter Name = \")\n",
    "        number = int(input(\"Enter number = \"))\n",
    "        insert_contact(name, number)\n",
    "    elif choice == 'd':\n",
    "        name = input(\"Enter Name = \")\n",
    "        delete_contact(name)\n",
    "    else:\n",
    "        print(\"Input Error: Only I/D/Q permitted\")\n",
    "\n",
    "print(\"Final Directory:\", directory)"
   ]
  },
  {
   "cell_type": "code",
   "execution_count": 4,
   "metadata": {
    "colab": {
     "base_uri": "https://localhost:8080/"
    },
    "id": "7B51GdLaM9Pb",
    "outputId": "83ac607d-01cc-4573-a401-42fe72011a32"
   },
   "outputs": [
    {
     "name": "stdout",
     "output_type": "stream",
     "text": [
      "Input a = 12\n",
      "Input b = 13\n",
      "Input c = 5\n",
      "a+b: 12+13=25\n",
      "b-c: 13-5=8\n",
      "True\n",
      "True\n",
      "True\n",
      "False\n"
     ]
    }
   ],
   "source": [
    "#6. Initialize the value of a, b, c using: ’input statements’ (from user). Compute the sum of (a, b) \n",
    "#and assign to variable ’d’ and difference between (b, c ) and assign the result to e. Print the sum of a and b.\n",
    "#Print the difference of b and c. Using relational operations: print the flowing results: i. print(d >= e) ,\n",
    "#ii. print(d != e) iii. print(e <= d) iv. print(e == d) .\n",
    "\n",
    "a=int(input(\"Input a = \"))\n",
    "b=int(input(\"Input b = \"))\n",
    "c=int(input(\"Input c = \"))\n",
    "\n",
    "d=a+b\n",
    "e=b-c\n",
    "\n",
    "print(f'a+b: {a}+{b}={a+b}')\n",
    "print(f'b-c: {b}-{c}={b-c}')\n",
    "\n",
    "print(d >= e)\n",
    "print(d != e)\n",
    "print(e <= d)\n",
    "print(e == d)"
   ]
  },
  {
   "cell_type": "code",
   "execution_count": 9,
   "metadata": {},
   "outputs": [
    {
     "name": "stdout",
     "output_type": "stream",
     "text": [
      "Decimal 84 in binary = 1010100\n",
      "Decimal 84 in hexadecimal = 54\n",
      "Decimal 84 in octal = 124\n",
      "\n",
      "Decimal 101 in binary = 1100101\n",
      "Decimal 101 in hexadecimal = 65\n",
      "Decimal 101 in octal = 145\n",
      "\n",
      "Bitwise complement of 85 = -86\n",
      "Bitwise complement of 101 = -102\n",
      "\n",
      "Bitwise AND of shifted values: 16\n",
      "Bitwise OR of shifted values: 349\n"
     ]
    }
   ],
   "source": [
    "#7. Print the decimal numbers 84 and 101 in binary, hexadecimal and octal using python. Find their \n",
    "#bit-wise complementary outputs. Perform 2 bit right shift operator on 84 and 2 bit left shift operator on 101. \n",
    "#On the results obtained, perform bit-wise OR and bit-wise AND operation.\n",
    "\n",
    "print(\"Decimal 84 in binary =\", bin(84)[2:])\n",
    "print(\"Decimal 84 in hexadecimal =\", hex(84)[2:])\n",
    "print(\"Decimal 84 in octal =\", oct(84)[2:])\n",
    "\n",
    "print(\"\\nDecimal 101 in binary =\", bin(101)[2:])\n",
    "print(\"Decimal 101 in hexadecimal =\", hex(101)[2:])\n",
    "print(\"Decimal 101 in octal =\", oct(101)[2:])\n",
    "\n",
    "x = 85\n",
    "y = 101\n",
    "print(\"\\nBitwise complement of 85 =\", ~x)\n",
    "print(\"Bitwise complement of 101 =\", ~y)\n",
    "\n",
    "x = x << 2\n",
    "y = y >> 2\n",
    "print(\"\\nBitwise AND of shifted values:\", x & y)\n",
    "print(\"Bitwise OR of shifted values:\", x | y)"
   ]
  },
  {
   "cell_type": "code",
   "execution_count": 8,
   "metadata": {},
   "outputs": [
    {
     "name": "stdout",
     "output_type": "stream",
     "text": [
      "Number of 5's in tuple a: 4\n",
      "Result b*3: ('orange', 'apples', 7, 8, 'orange', 'apples', 7, 8, 'orange', 'apples', 7, 8)\n",
      "Swapped tuple values: (9, 4)\n"
     ]
    }
   ],
   "source": [
    "#8. Create a tuple with values a = (2, 5, 5, 5, 3, 2, 5) and count number of 5’s in this tuple. B. \n",
    "#Given a tuple: b=(‘orange’, ‘apples’,7, 8), perform b*3 on the tuple and print the results. C. \n",
    "#Given a tuple nums=(4,9). Unpack the tuple into variables and swap the variables to have results as: (9,4).\n",
    "\n",
    "a = (2, 5, 5, 5, 3, 2, 5)\n",
    "cnt = a.count(5)\n",
    "print(\"Number of 5's in tuple a:\", cnt)\n",
    "\n",
    "b = ('orange', 'apples', 7, 8)\n",
    "print(\"Result b*3:\", b*3)\n",
    "\n",
    "nums = (4, 9)\n",
    "num1, num2 = nums\n",
    "num1, num2 = num2, num1\n",
    "print(\"Swapped tuple values:\", (num1, num2))"
   ]
  }
 ],
 "metadata": {
  "colab": {
   "provenance": []
  },
  "kernelspec": {
   "display_name": "Python 3 (ipykernel)",
   "language": "python",
   "name": "python3"
  },
  "language_info": {
   "codemirror_mode": {
    "name": "ipython",
    "version": 3
   },
   "file_extension": ".py",
   "mimetype": "text/x-python",
   "name": "python",
   "nbconvert_exporter": "python",
   "pygments_lexer": "ipython3",
   "version": "3.11.3"
  }
 },
 "nbformat": 4,
 "nbformat_minor": 1
}

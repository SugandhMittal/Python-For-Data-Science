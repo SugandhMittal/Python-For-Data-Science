{
 "cells": [
  {
   "cell_type": "code",
   "execution_count": 2,
   "metadata": {
    "colab": {
     "base_uri": "https://localhost:8080/"
    },
    "id": "2JHSDp1RMTeJ",
    "outputId": "afdaec33-1d66-42ab-97e0-07905f7a357b"
   },
   "outputs": [
    {
     "name": "stdout",
     "output_type": "stream",
     "text": [
      "Decimal 84 in binary = 1010100\n",
      "Decimal 84 in hexadecimal = 54\n",
      "Decimal 84 in octal = 124\n",
      "\n",
      "Decimal 101 in binary = 1100101\n",
      "Decimal 101 in hexadecimal = 65\n",
      "Decimal 101 in octal = 145\n",
      "\n",
      "Bitwise complement of 85 = -86\n",
      "Bitwise complement of 101 = -102\n",
      "\n",
      "Bitwise AND of shifted values: 16\n",
      "Bitwise OR of shifted values: 349\n"
     ]
    }
   ],
   "source": [
    "#1. Print the decimal numbers 84 and 101 in binary, hexadecimal, and octal using python. Find their \n",
    "# bit-wise complementary outputs. Perform 2- bit right shift operator on 84 and 2-bit left shift operator on \n",
    "# 101. On the results obtained, perform bit-wise OR and bit-wise AND operations.\n",
    "\n",
    "print(\"84 in binary =\",bin(84)[2:])\n",
    "print(\"84 in hexadecimal =\",hex(84)[2:])\n",
    "print(\"84 in octal =\",oct(84)[2:])\n",
    "print()\n",
    "\n",
    "print(\"101 in binary =\",bin(101)[2:])\n",
    "print(\"101 in hexadecimal =\",hex(101)[2:])\n",
    "print(\"101 in octal =\",oct(101)[2:])\n",
    "print()\n",
    "\n",
    "a=84\n",
    "b=101\n",
    "print(\"Complementary of 84 =\",~a)\n",
    "print(\"Complementary of 101 =\",~b)\n",
    "print()\n",
    "\n",
    "a=a>>2\n",
    "b=b<<2\n",
    "print(a & b)\n",
    "print(a | b)"
   ]
  },
  {
   "cell_type": "code",
   "execution_count": 1,
   "metadata": {},
   "outputs": [
    {
     "name": "stdout",
     "output_type": "stream",
     "text": [
      "1\n",
      "2\n",
      "4\n",
      "5\n",
      "7\n",
      "8\n",
      "10\n",
      "11\n",
      "13\n",
      "14\n",
      "16\n",
      "17\n",
      "19\n",
      "20\n"
     ]
    }
   ],
   "source": [
    "#2. Print values from 1 to 20 while skipping values divisible by three using while loop\n",
    "\n",
    "i = 1\n",
    "while i <= 20:\n",
    "    if i % 3 != 0:\n",
    "        print(i)\n",
    "    i += 1"
   ]
  },
  {
   "cell_type": "code",
   "execution_count": 12,
   "metadata": {
    "colab": {
     "base_uri": "https://localhost:8080/"
    },
    "id": "jDTt2wtyYrax",
    "outputId": "432504d5-67af-461b-c037-c22338792633"
   },
   "outputs": [
    {
     "name": "stdout",
     "output_type": "stream",
     "text": [
      "Enter a = 9\n",
      "Enter b = 6\n",
      "\n",
      "a is greater than b\n",
      "a is greater than b\n",
      "a\n"
     ]
    }
   ],
   "source": [
    "#3. Modify code (prog9.py) for user input integer values & check the outputs\n",
    "\n",
    "a = int(input(\"Enter a = \"))\n",
    "b = int(input(\"Enter b = \"))\n",
    "print()\n",
    "\n",
    "# Section 1\n",
    "if b > a:\n",
    "    print(\"b is greater than a\")\n",
    "elif a == b:\n",
    "    print(\"a and b are equal\")\n",
    "else:\n",
    "    print(\"a is greater than b\")\n",
    "\n",
    "# Section 2\n",
    "if a > b:\n",
    "    print(\"a is greater than b\")\n",
    "\n",
    "# Section 3\n",
    "print(\"a\") if a > b else print(\"=\") if a == b else print(\"b\")\n"
   ]
  },
  {
   "cell_type": "code",
   "execution_count": 11,
   "metadata": {
    "colab": {
     "base_uri": "https://localhost:8080/"
    },
    "id": "EvvHvZgHNlQG",
    "outputId": "498463c9-f238-4a6e-bb2a-3ef182138e21"
   },
   "outputs": [
    {
     "name": "stdout",
     "output_type": "stream",
     "text": [
      "Hello World 20 (i = 20 )\n",
      "Hello World 19 (i = 19 )\n",
      "Hello World 18 (i = 18 )\n",
      "Hello World 17 (i = 17 )\n",
      "Hello World 16 (i = 16 )\n",
      "Hello World 15 (i = 15 )\n",
      "Hello World 14 (i = 14 )\n",
      "Hello World 13 (i = 13 )\n",
      "Hello World 12 (i = 12 )\n",
      "Hello World 11 (i = 11 )\n",
      "Hello World 10 (i = 10 )\n",
      "Hello World 9 (i = 9 )\n",
      "Hello World 8 (i = 8 )\n",
      "Hello World 7 (i = 7 )\n",
      "Hello World 6 (i = 6 )\n",
      "Hello World 5 (i = 5 )\n",
      "Hello World 4 (i = 4 )\n",
      "Hello World 3 (i = 3 )\n",
      "Hello World 2 (i = 2 )\n",
      "Hello World 1 (i = 1 )\n"
     ]
    }
   ],
   "source": [
    "#4. Use a condition; decrement (i = i − 1) the value of ‘i’ to print ‘Hello world’ 20 times; what will be \n",
    "#the value of ‘i’ to start with? Also, print the value of ‘i’ at each iteration and ‘Hello world.’\n",
    "#E.g., Hello World 2 (i = 2).\n",
    "\n",
    "i = 20\n",
    "while i > 0:\n",
    "    print(\"Hello World\", i, \"(i =\", i,\")\")\n",
    "    i -= 1"
   ]
  },
  {
   "cell_type": "code",
   "execution_count": 15,
   "metadata": {},
   "outputs": [
    {
     "name": "stdout",
     "output_type": "stream",
     "text": [
      "Enter account balance: 60000\n",
      "Enter withdrawal amount: 7000\n",
      "Withdrawal done. New balance: 53000.0\n"
     ]
    }
   ],
   "source": [
    "#5. Write a program that simulates a basic ATM transaction. Ask the user for their account balance and \n",
    "#the amount they want to withdraw. If the balance is sufficient, subtract the withdrawal amount and print the \n",
    "#new balance. If the balance is insufficient, print ”Insufficient funds.”\n",
    "\n",
    "acc_bal = float(input(\"Enter account balance: \"))\n",
    "amt = float(input(\"Enter withdrawal amount: \"))\n",
    "\n",
    "if amt <= acc_bal:\n",
    "    acc_bal -= amt\n",
    "    print(\"Withdrawal done. New balance:\", acc_bal)\n",
    "else:\n",
    "    print(\"Insufficient funds.\")\n"
   ]
  },
  {
   "cell_type": "code",
   "execution_count": 16,
   "metadata": {},
   "outputs": [
    {
     "name": "stdout",
     "output_type": "stream",
     "text": [
      "Question: 65 - 634 = -569\n",
      "Correct.\n",
      "Question: 457 - 134 = 2309\n",
      "Incorrect.\n",
      "Question: 150 - 4 = 146\n",
      "Correct.\n",
      "Question: 49 + 245 = 294\n",
      "Correct.\n",
      "Question: 499 - 306 = 193\n",
      "Correct.\n",
      "\n",
      "Your score: 4 / 5\n"
     ]
    }
   ],
   "source": [
    "#6. Create a program that generates a random math problem (e.g., addition, subtraction, multiplication) \n",
    "#and asks the user to solve it. Keep track of the user’s score and provide a final score at the end.\n",
    "\n",
    "import random\n",
    "\n",
    "def make_ques():\n",
    "    num1 = random.randint(1, 1000)\n",
    "    num2 = random.randint(1, 1000)\n",
    "    operator = random.choice(['+', '-', '*'])\n",
    "    return num1, operator, num2\n",
    "\n",
    "def fetch_ans(question):\n",
    "    num1, operator, num2 = question\n",
    "    answer = float(input(f\"Question: {num1} {operator} {num2} = \"))\n",
    "    return answer\n",
    "\n",
    "total_ques = 5\n",
    "score = 0\n",
    "\n",
    "for _ in range(total_ques):\n",
    "    question = make_ques()\n",
    "    answer = fetch_ans(question)\n",
    "\n",
    "    num1, operator, num2 = question\n",
    "    if operator == '+':\n",
    "        correct_result = num1 + num2\n",
    "    elif operator == '-':\n",
    "        correct_result = num1 - num2\n",
    "    else:\n",
    "        correct_result = num1 * num2\n",
    "\n",
    "    if answer == correct_result:\n",
    "        print(\"Correct.\")\n",
    "        score += 1\n",
    "    else:\n",
    "        print(\"Incorrect.\")\n",
    "\n",
    "print(\"\\nYour score:\", score, \"/\", total_ques)\n"
   ]
  },
  {
   "cell_type": "code",
   "execution_count": 18,
   "metadata": {},
   "outputs": [
    {
     "name": "stdout",
     "output_type": "stream",
     "text": [
      "Enter a positive number: 2387\n",
      "The approximate square root of 2387.0 is: 48.856934\n"
     ]
    }
   ],
   "source": [
    "#7. Develop a program that calculates the square root of a given positive number using the \n",
    "# Newton-Raphson method with a while loop for iterative approximation.\n",
    "\n",
    "def newton_rhapson(value, eps=1e-6):\n",
    "    estimate = value / 2  # Initial estimate\n",
    "\n",
    "    while abs(estimate * estimate - value) > eps:\n",
    "        estimate = (estimate + value / estimate) / 2\n",
    "\n",
    "    return estimate\n",
    "\n",
    "# Input\n",
    "inp = float(input(\"Enter a positive number: \"))\n",
    "\n",
    "if inp < 0:\n",
    "    print(\"Please enter a positive number.\")\n",
    "else:\n",
    "    inp_sq = newton_rhapson(inp)\n",
    "    print(f\"The approximate square root of {inp} is: {inp_sq:.6f}\")\n"
   ]
  },
  {
   "cell_type": "code",
   "execution_count": 2,
   "metadata": {},
   "outputs": [
    {
     "name": "stdout",
     "output_type": "stream",
     "text": [
      "Choose operation (+, -, *, /, ^): *\n",
      "Enter first number: 3\n",
      "Enter second number: 5\n",
      "Result: 15.0\n"
     ]
    }
   ],
   "source": [
    "#8. Develop a program that simulates a basic calculator with the following\n",
    "# operations: addition, subtraction, multiplication, division, and expo-\n",
    "# nentiation. Allow the user to choose an operation and provide the\n",
    "# necessary inputs for the chosen operation.\n",
    "\n",
    "operation = input(\"Choose operation (+, -, *, /, ^): \")\n",
    "num1 = float(input(\"Enter first number: \"))\n",
    "num2 = float(input(\"Enter second number: \"))\n",
    "\n",
    "result = '-'\n",
    "\n",
    "if operation == '+':\n",
    "    result = num1 + num2\n",
    "elif operation == '-':\n",
    "    result = num1 - num2\n",
    "elif operation == '*':\n",
    "    result = num1 * num2\n",
    "elif operation == '/':\n",
    "    if num2 != 0:\n",
    "        result = num1 / num2\n",
    "    else:\n",
    "        print(\"Cannot divide by zero.\")\n",
    "        exit()\n",
    "elif operation == '^':\n",
    "    result = num1 ** num2\n",
    "else:\n",
    "    print(\"Invalid operation.\")\n",
    "    exit()\n",
    "\n",
    "if operation in ('+', '-', '*', '/', '^'):\n",
    "    print(f\"Result: {result}\")\n"
   ]
  },
  {
   "cell_type": "code",
   "execution_count": 5,
   "metadata": {},
   "outputs": [
    {
     "name": "stdout",
     "output_type": "stream",
     "text": [
      "What is the largest organ in the human body?\n",
      "a. Brain\n",
      "b. Skin\n",
      "c. Kidney\n",
      "d. Heart\n",
      "Your answer (a/b/c/d): b\n",
      "Correct.\n",
      "\n",
      "What is the chemical symbol for gold?\n",
      "a. A\n",
      "b. G\n",
      "c. Go\n",
      "d. Au\n",
      "Your answer (a/b/c/d): d\n",
      "Correct.\n",
      "\n",
      "What is the capital city of Canada?\n",
      "a. Vancouver\n",
      "b. Toronto\n",
      "c. London\n",
      "d. Ottawa\n",
      "Your answer (a/b/c/d): d\n",
      "Correct.\n",
      "\n",
      "In which year did the Titanic sink?\n",
      "a. 1917\n",
      "b. 1912\n",
      "c. 1924\n",
      "d. 1910\n",
      "Your answer (a/b/c/d): d\n",
      "Incorrect.\n",
      "\n",
      "What is the largest planet in our solar system?\n",
      "a. Jupiter\n",
      "b. Earth\n",
      "c. Saturn\n",
      "d. Venus\n",
      "Your answer (a/b/c/d): a\n",
      "Correct.\n",
      "\n",
      "Your score: 4 / 5\n"
     ]
    }
   ],
   "source": [
    "#9. Create a program that simulates a simple quiz with multiple-choice\n",
    "#questions. Ask a series of questions and give the user a score based on\n",
    "#their answers. Include a mix of topics and varying levels of difficulty.\n",
    "\n",
    "score = 0\n",
    "\n",
    "questions = [\n",
    "    (\"What is the largest organ in the human body?\", [\"a. Brain\", \"b. Skin\", \"c. Kidney\", \"d. Heart\"], \"b\"),\n",
    "    (\"What is the chemical symbol for gold?\", [\"a. A\", \"b. G\", \"c. Go\", \"d. Au\"], \"d\"),\n",
    "    (\"What is the capital city of Canada?\", [\"a. Vancouver\", \"b. Toronto\", \"c. London\", \"d. Ottawa\"], \"d\"),\n",
    "    (\"In which year did the Titanic sink?\", [\"a. 1917\", \"b. 1912\", \"c. 1924\", \"d. 1910\"], \"b\"),\n",
    "    (\"What is the largest planet in our solar system?\", [\"a. Jupiter\", \"b. Earth\", \"c. Saturn\", \"d. Venus\"], \"a\")\n",
    "]\n",
    "\n",
    "for question, options, answer in questions:\n",
    "    print(question)\n",
    "    for option in options:\n",
    "        print(option)\n",
    "    given_answer = input(\"Your answer (a/b/c/d): \").lower()\n",
    "    if given_answer == answer:\n",
    "        print(\"Correct.\\n\")\n",
    "        score += 1\n",
    "    else:\n",
    "        print(\"Incorrect.\\n\")\n",
    "\n",
    "print(\"Your score:\", score, \"/\", len(questions))"
   ]
  },
  {
   "cell_type": "code",
   "execution_count": 9,
   "metadata": {},
   "outputs": [
    {
     "name": "stdout",
     "output_type": "stream",
     "text": [
      "Enter the size of the list: 10\n",
      "Original list: [90, 51, 53, 88, 78, 80, 10, 32, 8, 21]\n",
      "Sorted list: [8, 10, 21, 32, 51, 53, 78, 80, 88, 90]\n",
      "Iterations reqd: 9\n"
     ]
    }
   ],
   "source": [
    "#10. Create a program that generates a list of random numbers and sorts\n",
    "# them using the bubble sort algorithm within a while loop. Keep track\n",
    "# of the number of iterations needed for sorting.\n",
    "\n",
    "import random\n",
    "\n",
    "def bubble_sort(lst):\n",
    "    length, iterations = len(lst), 0\n",
    "\n",
    "    for i in range(length):\n",
    "        swapped = False\n",
    "        for j in range(length - i - 1):\n",
    "            if lst[j] > lst[j + 1]:\n",
    "                lst[j], lst[j + 1], swapped = lst[j + 1], lst[j], True\n",
    "        iterations += 1\n",
    "        if not swapped:\n",
    "            break\n",
    "    return iterations\n",
    "\n",
    "list_size = int(input(\"Enter the size of the list: \"))\n",
    "lst = [random.randint(1, 1000) for _ in range(list_size)]\n",
    "\n",
    "print(\"Original list:\", lst)\n",
    "sort_iterations = bubble_sort(lst)\n",
    "print(\"Sorted list:\", lst)\n",
    "print(\"Iterations reqd:\", sort_iterations)"
   ]
  },
  {
   "cell_type": "code",
   "execution_count": 11,
   "metadata": {},
   "outputs": [
    {
     "name": "stdout",
     "output_type": "stream",
     "text": [
      "Enter your guess: 50\n",
      "Go lower.\n",
      "Enter your guess: 25\n",
      "Go higher.\n",
      "Enter your guess: 37\n",
      "Go lower.\n",
      "Enter your guess: 31\n",
      "Go lower.\n",
      "Enter your guess: 28\n",
      "Go higher.\n",
      "Enter your guess: 29\n",
      "Go higher.\n",
      "Enter your guess: 30\n",
      "Correct! You guessed it in 7 tries.\n"
     ]
    }
   ],
   "source": [
    "#11. Develop a program that generates a random number between 1 and 100.\n",
    "# Allow the user to guess the number, providing hints such as ”higher”\n",
    "# or ”lower” after each incorrect guess. Continue until the user guesses\n",
    "# correctly or reaches a maximum number of attempts.\n",
    "\n",
    "import random\n",
    "\n",
    "def guessing_game():\n",
    "    target_num = random.randint(1, 100)\n",
    "    max_tries = 10\n",
    "    tries = 0\n",
    "\n",
    "    while tries < max_tries:\n",
    "        user_guess = int(input(\"Enter your guess: \"))\n",
    "        tries += 1\n",
    "\n",
    "        if user_guess == target_num:\n",
    "            print(f\"Correct! You guessed it in {tries} tries.\")\n",
    "            break\n",
    "        elif user_guess < target_num:\n",
    "            print(\"Go higher.\")\n",
    "        else:\n",
    "            print(\"Go lower.\")\n",
    "\n",
    "    if tries == max_tries:\n",
    "        print(f\"Out of attempts. The number was {target_num}.\")\n",
    "\n",
    "guessing_game()"
   ]
  }
 ],
 "metadata": {
  "colab": {
   "provenance": []
  },
  "kernelspec": {
   "display_name": "Python 3 (ipykernel)",
   "language": "python",
   "name": "python3"
  },
  "language_info": {
   "codemirror_mode": {
    "name": "ipython",
    "version": 3
   },
   "file_extension": ".py",
   "mimetype": "text/x-python",
   "name": "python",
   "nbconvert_exporter": "python",
   "pygments_lexer": "ipython3",
   "version": "3.11.3"
  }
 },
 "nbformat": 4,
 "nbformat_minor": 1
}

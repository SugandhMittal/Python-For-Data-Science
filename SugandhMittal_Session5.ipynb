{
  "nbformat": 4,
  "nbformat_minor": 0,
  "metadata": {
    "colab": {
      "provenance": []
    },
    "kernelspec": {
      "name": "python3",
      "display_name": "Python 3"
    },
    "language_info": {
      "name": "python"
    }
  },
  "cells": [
    {
      "cell_type": "markdown",
      "source": [
        "**Data Encapsulation and Data Abstraction:**\n",
        "\n",
        "\n",
        "**1. Create a class Student with attributes name (private), age (protected), and marks (public). Implement methods to set and get the values of the private and protected attributes. Create an instance of the class and demonstrate how to use these methods to access and modify the attributes.**\n",
        "\n",
        "**2. Create a base class Shape with a protected attribute area. Implement subclasses Circle and Rectangle that calculate their respective areas. Make use of protected members to store and access the calculated areas.**\n",
        "\n",
        "**3. Write a class Calculator that implements a method evaluate expression() to calculate the result of an arithmetic expression following the PEMDAS rule.**\n",
        "\n",
        "**4. Create a program that reads data from a CSV file named data.csv containing student names and their scores. Implement a class Student with attributes name and score. Read the data from the CSV file and create instances of the Student class for each student. Compute the average for the class using a numpy function**\n",
        "\n"
      ],
      "metadata": {
        "id": "ttNT5-SqC351"
      }
    },
    {
      "cell_type": "code",
      "source": [
        "class Student:\n",
        "    def __init__(self, age, marks, name):\n",
        "        self._age = age\n",
        "        self.marks = marks\n",
        "        self.__name = name\n",
        "\n",
        "    def get_name(self):\n",
        "        return self.__name\n",
        "\n",
        "    def set_name(self, name):\n",
        "        self.__name = name\n",
        "\n",
        "    def get_age(self):\n",
        "        return self._age\n",
        "\n",
        "    def set_age(self, age):\n",
        "        self._age = age\n",
        "\n",
        "class age(Student):\n",
        "    def __init__(self, age, marks, name):\n",
        "        Student.__init__(self, age, marks, name)\n",
        "        #print(\"Name (private): \", self.__name)\n",
        "        print(\"Age in class Student is: \", self._age)\n",
        "        self._age = 25\n",
        "        print(\"Modified age in subclass: \", self._age)\n",
        "        print()\n",
        "        print(\"Marks in class Student is: \", self.marks)\n",
        "        self.marks = 98\n",
        "        print(\"Modified marks in subclass: \", self.marks)\n",
        "\n",
        "obj1 = age(20, 100, \"Sugandh\")  # We can modify protected variable in subclass\n",
        "obj2 = Student(20, 100, \"Sugandh\")\n",
        "\n",
        "\n",
        "print()\n",
        "print(\"Original Name:\", obj2.get_name())  # We can modify private variable only in the main class\n",
        "obj2.set_name(\"Sugandh Mittal\")\n",
        "print(\"Updated Name:\", obj2.get_name())\n",
        "print()\n",
        "\n",
        "print(\"Original Age:\", obj2.get_age())  # We can modify age in main class as well as subclass (as shown above)\n",
        "obj2.set_age(21)\n",
        "print(\"Updated Age:\", obj2.get_age())\n",
        "print()\n",
        "\n",
        "print(\"Original Marks:\", obj2.marks)  # We can update this type of variable anywhere.\n",
        "obj2.marks = 97\n",
        "print(\"Updated Marks:\", obj2.marks)\n",
        "\n"
      ],
      "metadata": {
        "colab": {
          "base_uri": "https://localhost:8080/"
        },
        "id": "v3ojCmsjeoOj",
        "outputId": "54e944fc-817c-425e-d3d4-b16beb44f5fb"
      },
      "execution_count": 23,
      "outputs": [
        {
          "output_type": "stream",
          "name": "stdout",
          "text": [
            "Age in class Student is:  20\n",
            "Modified age in subclass:  25\n",
            "\n",
            "Marks in class Student is:  100\n",
            "Modified marks in subclass:  98\n",
            "\n",
            "Original Name: Sugandh\n",
            "Updated Name: Sugandh Mittal\n",
            "\n",
            "Original Age: 20\n",
            "Updated Age: 21\n",
            "\n",
            "Original Marks: 100\n",
            "Updated Marks: 97\n"
          ]
        }
      ]
    },
    {
      "cell_type": "code",
      "source": [
        "class Shape():\n",
        "  def __init__(self):\n",
        "    self._area=area\n",
        "\n",
        "class Circle(Shape):\n",
        "  def __init__(self,radius):\n",
        "    self.radius=radius\n",
        "\n",
        "  def calculate_area(self):\n",
        "    self._area=self.radius**2*3.14\n",
        "\n",
        "\n",
        "class Rectangle(Shape):\n",
        "  def __init__(self,length,width):\n",
        "    self.length=length\n",
        "    self.width=width\n",
        "\n",
        "  def calculate_area(self):\n",
        "    self._area=self.length*self.width\n",
        "\n",
        "circle = Circle(8)\n",
        "circle.calculate_area()\n",
        "print(\"Area of circle:\", circle._area)\n",
        "\n",
        "rectangle = Rectangle(3, 5)\n",
        "rectangle.calculate_area()\n",
        "print(\"Area of rectangle:\", rectangle._area)"
      ],
      "metadata": {
        "id": "R9i4p0hQGNUv",
        "colab": {
          "base_uri": "https://localhost:8080/"
        },
        "outputId": "d7363fc0-7bb0-4b97-c1d6-b9bfeb53e023"
      },
      "execution_count": 29,
      "outputs": [
        {
          "output_type": "stream",
          "name": "stdout",
          "text": [
            "Area of circle: 200.96\n",
            "Area of rectangle: 15\n"
          ]
        }
      ]
    },
    {
      "cell_type": "code",
      "source": [
        "class Calculator:\n",
        "    def expression(self, expression):\n",
        "        # Define a dictionary to hold operator precedence\n",
        "        precedence = {'+': 1, '-': 1, '*': 2, '/': 2, '^': 3}\n",
        "\n",
        "        # Define functions to perform operations\n",
        "        def apply_operator(operators, values):\n",
        "            operator = operators.pop()\n",
        "            right = values.pop()\n",
        "            left = values.pop()\n",
        "            if operator == '+':\n",
        "                values.append(left + right)\n",
        "            elif operator == '-':\n",
        "                values.append(left - right)\n",
        "            elif operator == '*':\n",
        "                values.append(left * right)\n",
        "            elif operator == '/':\n",
        "                values.append(left / right)\n",
        "            elif operator == '^':\n",
        "                values.append(left ** right)\n",
        "\n",
        "        def greater_precedence(op1, op2):\n",
        "            return precedence[op1] > precedence[op2]\n",
        "\n",
        "        def evaluate(exp):\n",
        "            values = []\n",
        "            operators = []\n",
        "            i = 0\n",
        "            while i < len(exp):\n",
        "                if exp[i] == ' ':\n",
        "                    i += 1\n",
        "                    continue\n",
        "                if exp[i] in '0123456789':\n",
        "                    j = i\n",
        "                    while i < len(exp) and exp[i] in '0123456789.':\n",
        "                        i += 1\n",
        "                    values.append(float(exp[j:i]))\n",
        "                elif exp[i] in '+-*/^':\n",
        "                    while (operators and operators[-1] in '+-*/^' and\n",
        "                           greater_precedence(operators[-1], exp[i])):\n",
        "                        apply_operator(operators, values)\n",
        "                    operators.append(exp[i])\n",
        "                    i += 1\n",
        "                elif exp[i] == '(':\n",
        "                    operators.append(exp[i])\n",
        "                    i += 1\n",
        "                elif exp[i] == ')':\n",
        "                    while operators[-1] != '(':\n",
        "                        apply_operator(operators, values)\n",
        "                    operators.pop()\n",
        "                    i += 1\n",
        "            while operators:\n",
        "                apply_operator(operators, values)\n",
        "            return values[0]\n",
        "\n",
        "        return evaluate(exp)\n",
        "\n",
        "\n",
        "# Example usage:\n",
        "calculator = Calculator()\n",
        "exp = \"(2^3)+5-4\"\n",
        "result = calculator.expression(exp)\n",
        "print(\"Result:\", result)\n"
      ],
      "metadata": {
        "colab": {
          "base_uri": "https://localhost:8080/"
        },
        "id": "29oipJPAnFfT",
        "outputId": "71d5156a-2dd1-4a04-fcd3-6672f96b5c2b"
      },
      "execution_count": 28,
      "outputs": [
        {
          "output_type": "stream",
          "name": "stdout",
          "text": [
            "Result: 9.0\n"
          ]
        }
      ]
    },
    {
      "cell_type": "code",
      "source": [
        "import csv\n",
        "import numpy as np\n",
        "\n",
        "class Student():\n",
        "  def __init__(self,name,score):\n",
        "    self.name=name\n",
        "    self.score=score\n",
        "\n",
        "def read_data_from_csv(file_name):\n",
        "    students = []\n",
        "    with open(file_name, 'r') as csv_file:\n",
        "        csv_reader = csv.DictReader(csv_file)\n",
        "        for row in csv_reader:\n",
        "            name = row['Name']\n",
        "            score = float(row['Score'])\n",
        "            student = Student(name, score)\n",
        "            students.append(student)\n",
        "    return students\n",
        "\n",
        "def compute_average(students):\n",
        "   scores = [student.score for student in students]\n",
        "   average = np.mean(scores)\n",
        "   return average\n",
        "\n",
        "\n",
        "if __name__ == \"__main__\":\n",
        "    file_name = \"data.csv\"\n",
        "    students = read_data_from_csv(file_name)\n",
        "\n",
        "    if students:\n",
        "        class_average = compute_average(students)\n",
        "        print(f\"Class Average Score: {class_average:.2f}\")\n",
        "    else:\n",
        "        print(\"No student data found in the CSV file.\")"
      ],
      "metadata": {
        "id": "GnscEZqdGOKe",
        "colab": {
          "base_uri": "https://localhost:8080/",
          "height": 366
        },
        "outputId": "b3302bec-e337-4389-9c2a-b936ea933164"
      },
      "execution_count": 30,
      "outputs": [
        {
          "output_type": "error",
          "ename": "FileNotFoundError",
          "evalue": "ignored",
          "traceback": [
            "\u001b[0;31m---------------------------------------------------------------------------\u001b[0m",
            "\u001b[0;31mFileNotFoundError\u001b[0m                         Traceback (most recent call last)",
            "\u001b[0;32m<ipython-input-30-f807f3e70367>\u001b[0m in \u001b[0;36m<cell line: 26>\u001b[0;34m()\u001b[0m\n\u001b[1;32m     26\u001b[0m \u001b[0;32mif\u001b[0m \u001b[0m__name__\u001b[0m \u001b[0;34m==\u001b[0m \u001b[0;34m\"__main__\"\u001b[0m\u001b[0;34m:\u001b[0m\u001b[0;34m\u001b[0m\u001b[0;34m\u001b[0m\u001b[0m\n\u001b[1;32m     27\u001b[0m     \u001b[0mfile_name\u001b[0m \u001b[0;34m=\u001b[0m \u001b[0;34m\"data.csv\"\u001b[0m\u001b[0;34m\u001b[0m\u001b[0;34m\u001b[0m\u001b[0m\n\u001b[0;32m---> 28\u001b[0;31m     \u001b[0mstudents\u001b[0m \u001b[0;34m=\u001b[0m \u001b[0mread_data_from_csv\u001b[0m\u001b[0;34m(\u001b[0m\u001b[0mfile_name\u001b[0m\u001b[0;34m)\u001b[0m\u001b[0;34m\u001b[0m\u001b[0;34m\u001b[0m\u001b[0m\n\u001b[0m\u001b[1;32m     29\u001b[0m \u001b[0;34m\u001b[0m\u001b[0m\n\u001b[1;32m     30\u001b[0m     \u001b[0;32mif\u001b[0m \u001b[0mstudents\u001b[0m\u001b[0;34m:\u001b[0m\u001b[0;34m\u001b[0m\u001b[0;34m\u001b[0m\u001b[0m\n",
            "\u001b[0;32m<ipython-input-30-f807f3e70367>\u001b[0m in \u001b[0;36mread_data_from_csv\u001b[0;34m(file_name)\u001b[0m\n\u001b[1;32m      9\u001b[0m \u001b[0;32mdef\u001b[0m \u001b[0mread_data_from_csv\u001b[0m\u001b[0;34m(\u001b[0m\u001b[0mfile_name\u001b[0m\u001b[0;34m)\u001b[0m\u001b[0;34m:\u001b[0m\u001b[0;34m\u001b[0m\u001b[0;34m\u001b[0m\u001b[0m\n\u001b[1;32m     10\u001b[0m     \u001b[0mstudents\u001b[0m \u001b[0;34m=\u001b[0m \u001b[0;34m[\u001b[0m\u001b[0;34m]\u001b[0m\u001b[0;34m\u001b[0m\u001b[0;34m\u001b[0m\u001b[0m\n\u001b[0;32m---> 11\u001b[0;31m     \u001b[0;32mwith\u001b[0m \u001b[0mopen\u001b[0m\u001b[0;34m(\u001b[0m\u001b[0mfile_name\u001b[0m\u001b[0;34m,\u001b[0m \u001b[0;34m'r'\u001b[0m\u001b[0;34m)\u001b[0m \u001b[0;32mas\u001b[0m \u001b[0mcsv_file\u001b[0m\u001b[0;34m:\u001b[0m\u001b[0;34m\u001b[0m\u001b[0;34m\u001b[0m\u001b[0m\n\u001b[0m\u001b[1;32m     12\u001b[0m         \u001b[0mcsv_reader\u001b[0m \u001b[0;34m=\u001b[0m \u001b[0mcsv\u001b[0m\u001b[0;34m.\u001b[0m\u001b[0mDictReader\u001b[0m\u001b[0;34m(\u001b[0m\u001b[0mcsv_file\u001b[0m\u001b[0;34m)\u001b[0m\u001b[0;34m\u001b[0m\u001b[0;34m\u001b[0m\u001b[0m\n\u001b[1;32m     13\u001b[0m         \u001b[0;32mfor\u001b[0m \u001b[0mrow\u001b[0m \u001b[0;32min\u001b[0m \u001b[0mcsv_reader\u001b[0m\u001b[0;34m:\u001b[0m\u001b[0;34m\u001b[0m\u001b[0;34m\u001b[0m\u001b[0m\n",
            "\u001b[0;31mFileNotFoundError\u001b[0m: [Errno 2] No such file or directory: 'data.csv'"
          ]
        }
      ]
    },
    {
      "cell_type": "markdown",
      "source": [
        "**Welcome To Numpy**\n",
        "\n",
        "This assignment will help you the explore the Numpy library and its various uses. It would also cover some use cases about how numpy makes Machine Learning and Data Science calculations easy and fast. This assignment is made in order to encourage you to explore more and more builtin functions of this library and their usage. For all problems, you need to print the output.\n",
        "\n",
        "\n"
      ],
      "metadata": {
        "id": "Udk0cYE9mklm"
      }
    },
    {
      "cell_type": "markdown",
      "source": [
        "**Importing Numpy**\n",
        "\n",
        "The first step involves importing Numpy so that you can start using it right away. There are a lot of ways to do so depending upon how you want to use library or some functions of it. In general, we import it all together and in order to avoid writing numpy again and again, we abbreviate it in some form. For ex. np. Import the Numpy library as np in the below cell."
      ],
      "metadata": {
        "id": "uN0wapA3nxkp"
      }
    },
    {
      "cell_type": "code",
      "source": [
        "import numpy as np"
      ],
      "metadata": {
        "id": "8t0tLYdKnxCi"
      },
      "execution_count": null,
      "outputs": []
    },
    {
      "cell_type": "markdown",
      "source": [
        "**Arrays In Numpy**\n",
        "\n",
        "As already discussed in class, there are various ways of making numpy arrays. In the below cells we would test your ability to implement them correctly."
      ],
      "metadata": {
        "id": "owl28h2CpEXE"
      }
    },
    {
      "cell_type": "markdown",
      "source": [
        "**Create a numpy array of 1's of user defined dimensions**\n",
        "\n",
        "Take input for 2 dimensions : N and M, create a 2D matrix of 1's. Note : In general you can make numpy arrays of any number of dimensions. eg. 3, 4, and so on..."
      ],
      "metadata": {
        "id": "sjovULhrpXUS"
      }
    },
    {
      "cell_type": "code",
      "source": [
        "N=int(input(\"Enter the number of rows: \"))\n",
        "M=int(input(\"Enter the number of columns: \"))\n",
        "arr=np.ones((N,M))\n",
        "print(arr)"
      ],
      "metadata": {
        "id": "fUqg9t6fnvks",
        "colab": {
          "base_uri": "https://localhost:8080/"
        },
        "outputId": "c28f4bcd-80cd-42a0-aeea-4c0b1b16007b"
      },
      "execution_count": null,
      "outputs": [
        {
          "output_type": "stream",
          "name": "stdout",
          "text": [
            "Enter the number of rows: 3\n",
            "Enter the number of columns: 4\n",
            "[[1. 1. 1. 1.]\n",
            " [1. 1. 1. 1.]\n",
            " [1. 1. 1. 1.]]\n"
          ]
        }
      ]
    },
    {
      "cell_type": "markdown",
      "source": [
        "**Create an empty array Using Numpy**\n",
        "\n",
        "When you print your array, you might see random values in your array. Repeat instructions as mentioned for previous cell.\n"
      ],
      "metadata": {
        "id": "Huvcf3hJq89u"
      }
    },
    {
      "cell_type": "code",
      "source": [
        "N=int(input(\"Enter the number of rows: \"))\n",
        "M=int(input(\"Enter the number of columns: \"))\n",
        "arr=np.random.rand(N,M)\n",
        "print(arr)"
      ],
      "metadata": {
        "id": "Hy2DD2nHq8W9",
        "colab": {
          "base_uri": "https://localhost:8080/"
        },
        "outputId": "5dfb1474-28ce-4557-b065-7ff26505665d"
      },
      "execution_count": null,
      "outputs": [
        {
          "output_type": "stream",
          "name": "stdout",
          "text": [
            "Enter the number of rows: 3\n",
            "Enter the number of columns: 4\n",
            "[[0.23085356 0.95153235 0.46067737 0.43016385]\n",
            " [0.47641187 0.00654495 0.51532728 0.40070894]\n",
            " [0.47533995 0.70265414 0.69866543 0.9208977 ]]\n"
          ]
        }
      ]
    },
    {
      "cell_type": "markdown",
      "source": [
        "**Create a numpy array of 0's of user defined dimensions**\n",
        "\n",
        "Repeat instructions as mentioned previously\n"
      ],
      "metadata": {
        "id": "3dglTqmKsnKJ"
      }
    },
    {
      "cell_type": "code",
      "source": [
        "N=int(input(\"Enter the number of rows: \"))\n",
        "M=int(input(\"Enter the number of columns: \"))\n",
        "arr=np.zeros((N,M))\n",
        "print(arr)"
      ],
      "metadata": {
        "id": "7GPN7yQyrFxt",
        "colab": {
          "base_uri": "https://localhost:8080/"
        },
        "outputId": "531360ba-f3af-4aa3-d768-95bdb25dbfe5"
      },
      "execution_count": null,
      "outputs": [
        {
          "output_type": "stream",
          "name": "stdout",
          "text": [
            "Enter the number of rows: 3\n",
            "Enter the number of columns: 4\n",
            "[[0. 0. 0. 0.]\n",
            " [0. 0. 0. 0.]\n",
            " [0. 0. 0. 0.]]\n"
          ]
        }
      ]
    },
    {
      "cell_type": "markdown",
      "source": [
        "**Create a numpy array from numbers 1 to 10 using inbuilt functions**\n",
        "\n",
        "This task can be implemented using 2 functions : **arange()** and **linspace()**. You have to make use of both of them in cells given below"
      ],
      "metadata": {
        "id": "_MAwKZKGswaI"
      }
    },
    {
      "cell_type": "code",
      "source": [
        "arr=np.linspace(1,10,10)\n",
        "print(arr)"
      ],
      "metadata": {
        "id": "OIpMckO1tu9w",
        "colab": {
          "base_uri": "https://localhost:8080/"
        },
        "outputId": "ba98ad0c-8307-4f7f-8b71-59a8cb39f56a"
      },
      "execution_count": null,
      "outputs": [
        {
          "output_type": "stream",
          "name": "stdout",
          "text": [
            "[ 1.  2.  3.  4.  5.  6.  7.  8.  9. 10.]\n"
          ]
        }
      ]
    },
    {
      "cell_type": "code",
      "source": [
        "arr= np.arange(1,11,1,float)\n",
        "print(arr)"
      ],
      "metadata": {
        "id": "tTI7c37VtwGo",
        "colab": {
          "base_uri": "https://localhost:8080/"
        },
        "outputId": "b340aa40-b1cb-4a96-9820-d112392fbd58"
      },
      "execution_count": null,
      "outputs": [
        {
          "output_type": "stream",
          "name": "stdout",
          "text": [
            "[ 1.  2.  3.  4.  5.  6.  7.  8.  9. 10.]\n"
          ]
        }
      ]
    },
    {
      "cell_type": "markdown",
      "source": [
        "**Convert a simple list to array**\n",
        "\n",
        "Create a 1D list and a 2D list and convert them to numpy arrays. You need to print the type of both after conversion in order to check if they are really converted or not."
      ],
      "metadata": {
        "id": "ccVilYfttwgv"
      }
    },
    {
      "cell_type": "code",
      "source": [
        "lst=[]\n",
        "for i in range(10):\n",
        "  lst.append(i)\n",
        "print(lst)\n",
        "\n",
        "arr=np.asarray(lst)\n",
        "print(arr)"
      ],
      "metadata": {
        "id": "mex0-FdhuMtO",
        "colab": {
          "base_uri": "https://localhost:8080/"
        },
        "outputId": "3dbc6590-0738-454c-d93b-a085b9c5848c"
      },
      "execution_count": null,
      "outputs": [
        {
          "output_type": "stream",
          "name": "stdout",
          "text": [
            "[0, 1, 2, 3, 4, 5, 6, 7, 8, 9]\n",
            "[0 1 2 3 4 5 6 7 8 9]\n"
          ]
        }
      ]
    },
    {
      "cell_type": "code",
      "source": [
        "rows, cols = (5, 5)\n",
        "lst = [[i for i in range(cols)] for j in range(rows)]\n",
        "print(lst)\n",
        "\n",
        "arr=np.asarray(lst)\n",
        "print(arr)"
      ],
      "metadata": {
        "id": "y5eM9eRcuf7J",
        "colab": {
          "base_uri": "https://localhost:8080/"
        },
        "outputId": "8df7cd04-7104-4b7a-ec5c-b7f65568cd07"
      },
      "execution_count": null,
      "outputs": [
        {
          "output_type": "stream",
          "name": "stdout",
          "text": [
            "[[0, 1, 2, 3, 4], [0, 1, 2, 3, 4], [0, 1, 2, 3, 4], [0, 1, 2, 3, 4], [0, 1, 2, 3, 4]]\n",
            "[[0 1 2 3 4]\n",
            " [0 1 2 3 4]\n",
            " [0 1 2 3 4]\n",
            " [0 1 2 3 4]\n",
            " [0 1 2 3 4]]\n"
          ]
        }
      ]
    },
    {
      "cell_type": "markdown",
      "source": [
        "**Conversion Of Data Types in Numpy arrays**\n",
        "\n",
        "In this problem, you need to convert float numpy array to integer type and vice versa. You need to print the array after each conversion."
      ],
      "metadata": {
        "id": "2-MlpJL_ugeA"
      }
    },
    {
      "cell_type": "code",
      "source": [
        "a = [[1,2,3],[4,5,6]]"
      ],
      "metadata": {
        "id": "5moEhinwvdED"
      },
      "execution_count": null,
      "outputs": []
    },
    {
      "cell_type": "code",
      "source": [
        "arr=np.asarray(a)\n",
        "print(arr.dtype)"
      ],
      "metadata": {
        "id": "DZTZhyryw5s0",
        "colab": {
          "base_uri": "https://localhost:8080/"
        },
        "outputId": "074e09c0-f949-49c4-9a0b-c7636a24be28"
      },
      "execution_count": null,
      "outputs": [
        {
          "output_type": "stream",
          "name": "stdout",
          "text": [
            "int64\n"
          ]
        }
      ]
    },
    {
      "cell_type": "code",
      "source": [
        "arr1=arr.astype('float64')\n",
        "print(arr1)\n"
      ],
      "metadata": {
        "id": "6lsov9NDxFeV",
        "colab": {
          "base_uri": "https://localhost:8080/"
        },
        "outputId": "a0768753-69c9-4eb4-bb9d-bff4c66144c9"
      },
      "execution_count": null,
      "outputs": [
        {
          "output_type": "stream",
          "name": "stdout",
          "text": [
            "[[1. 2. 3.]\n",
            " [4. 5. 6.]]\n"
          ]
        }
      ]
    },
    {
      "cell_type": "code",
      "source": [
        "arr2=arr1.astype('int64')\n",
        "print(arr2)"
      ],
      "metadata": {
        "id": "w4lc3zKIx2Hh",
        "colab": {
          "base_uri": "https://localhost:8080/"
        },
        "outputId": "21370fed-7c3a-4c48-f581-2ef151f1a29b"
      },
      "execution_count": null,
      "outputs": [
        {
          "output_type": "stream",
          "name": "stdout",
          "text": [
            "[[1 2 3]\n",
            " [4 5 6]]\n"
          ]
        }
      ]
    },
    {
      "cell_type": "markdown",
      "source": [
        "**Given below is an array of 20 elements. Convert this array into 2D matrices of dimensions 1 x 20, 2 x 10, 4 x 5, 5 x 4, 10 x 2 and 20 x 1**\n",
        "\n",
        "**For each given dimensions, you need to print the new array**\n",
        "\n",
        "**For the 1 x 20 array, print every third element using indexing & slicing**\n",
        "\n",
        "**Use the array splitter function for the 10 x 2 array having results with 3 elements**\n",
        "\n",
        "**Concatenate arrays 10 x 2 and 20 x 1 using concatenate(), hstack(),vstack, dstack() or using axis values, you may combine reshape() for either arrays so that all the functions work, provide comments while you stack arrays for the reader to have clarity for the steps**"
      ],
      "metadata": {
        "id": "URgzto4lzNpZ"
      }
    },
    {
      "cell_type": "code",
      "source": [
        "a = np.array([1,2,3,4,5,6,7,8,9,10,11,12,13,14,15,16,17,18,19,20])\n",
        "print(a)\n",
        "print(a[::3])"
      ],
      "metadata": {
        "id": "UPEjfX9Jziy2",
        "colab": {
          "base_uri": "https://localhost:8080/"
        },
        "outputId": "06e5c198-73f3-4b4e-e5de-8a3039be2dc9"
      },
      "execution_count": null,
      "outputs": [
        {
          "output_type": "stream",
          "name": "stdout",
          "text": [
            "[ 1  2  3  4  5  6  7  8  9 10 11 12 13 14 15 16 17 18 19 20]\n",
            "[ 1  4  7 10 13 16 19]\n"
          ]
        }
      ]
    },
    {
      "cell_type": "code",
      "source": [
        "a1=np.resize(a,(2,10))\n",
        "print(a1)"
      ],
      "metadata": {
        "id": "VWBy_47ez5eY",
        "colab": {
          "base_uri": "https://localhost:8080/"
        },
        "outputId": "745e5e2c-4fa3-4d60-ac3f-33b753024b6e"
      },
      "execution_count": null,
      "outputs": [
        {
          "output_type": "stream",
          "name": "stdout",
          "text": [
            "[[ 1  2  3  4  5  6  7  8  9 10]\n",
            " [11 12 13 14 15 16 17 18 19 20]]\n"
          ]
        }
      ]
    },
    {
      "cell_type": "code",
      "source": [
        "a2=np.resize(a,(4,5))\n",
        "print(a2)"
      ],
      "metadata": {
        "id": "ZQAGLYbGz9xG",
        "colab": {
          "base_uri": "https://localhost:8080/"
        },
        "outputId": "ca2a12ac-4896-4bf4-c62e-d9aba435d2b6"
      },
      "execution_count": null,
      "outputs": [
        {
          "output_type": "stream",
          "name": "stdout",
          "text": [
            "[[ 1  2  3  4  5]\n",
            " [ 6  7  8  9 10]\n",
            " [11 12 13 14 15]\n",
            " [16 17 18 19 20]]\n"
          ]
        }
      ]
    },
    {
      "cell_type": "code",
      "source": [
        "a3=np.resize(a,(5,4))\n",
        "print(a3)\n"
      ],
      "metadata": {
        "id": "JEZPIffz0JNw",
        "colab": {
          "base_uri": "https://localhost:8080/"
        },
        "outputId": "987e80d9-ee20-4522-ec5f-46f50e0dd2f3"
      },
      "execution_count": null,
      "outputs": [
        {
          "output_type": "stream",
          "name": "stdout",
          "text": [
            "[[ 1  2  3  4]\n",
            " [ 5  6  7  8]\n",
            " [ 9 10 11 12]\n",
            " [13 14 15 16]\n",
            " [17 18 19 20]]\n"
          ]
        }
      ]
    },
    {
      "cell_type": "code",
      "source": [
        "a4=np.resize(a,(10,2))\n",
        "print(a4)\n",
        "print(np.array_split(a4, 3))"
      ],
      "metadata": {
        "id": "ujXQegKE0Kr_",
        "colab": {
          "base_uri": "https://localhost:8080/"
        },
        "outputId": "d77411c4-05a5-443c-cdec-67879beff7c8"
      },
      "execution_count": null,
      "outputs": [
        {
          "output_type": "stream",
          "name": "stdout",
          "text": [
            "[[ 1  2]\n",
            " [ 3  4]\n",
            " [ 5  6]\n",
            " [ 7  8]\n",
            " [ 9 10]\n",
            " [11 12]\n",
            " [13 14]\n",
            " [15 16]\n",
            " [17 18]\n",
            " [19 20]]\n",
            "[array([[1, 2],\n",
            "       [3, 4],\n",
            "       [5, 6],\n",
            "       [7, 8]]), array([[ 9, 10],\n",
            "       [11, 12],\n",
            "       [13, 14]]), array([[15, 16],\n",
            "       [17, 18],\n",
            "       [19, 20]])]\n"
          ]
        }
      ]
    },
    {
      "cell_type": "code",
      "source": [
        "a5=np.resize(a,(20,1))\n",
        "print(a5)"
      ],
      "metadata": {
        "id": "fAwQcvv-0LvN",
        "colab": {
          "base_uri": "https://localhost:8080/"
        },
        "outputId": "0acd595f-9ac7-440f-925e-d3ba0f8db404"
      },
      "execution_count": null,
      "outputs": [
        {
          "output_type": "stream",
          "name": "stdout",
          "text": [
            "[[ 1]\n",
            " [ 2]\n",
            " [ 3]\n",
            " [ 4]\n",
            " [ 5]\n",
            " [ 6]\n",
            " [ 7]\n",
            " [ 8]\n",
            " [ 9]\n",
            " [10]\n",
            " [11]\n",
            " [12]\n",
            " [13]\n",
            " [14]\n",
            " [15]\n",
            " [16]\n",
            " [17]\n",
            " [18]\n",
            " [19]\n",
            " [20]]\n"
          ]
        }
      ]
    },
    {
      "cell_type": "code",
      "source": [
        "print(\"reshaped a5 and concatenated along axis=0\")\n",
        "print(np.concatenate((a4,np.reshape(a5,(10,2)))))\n",
        "print()\n",
        "\n",
        "print(\"reshaped a5 and concatenated along axis=1\")\n",
        "print(np.concatenate((a4,np.reshape(a5,(10,2))),axis=1))\n",
        "print()\n",
        "\n",
        "print(\"reshaped a5 and hstack\")\n",
        "print(np.hstack((a4,np.reshape(a5,(10,2)))))\n",
        "print()\n",
        "\n",
        "print(\"reshaped a5 and vstack\")\n",
        "print(np.vstack((a4,np.reshape(a5,(10,2)))))\n",
        "print()\n",
        "\n",
        "print(\"reshaped a5 and dstack\")\n",
        "print(np.dstack((a4,np.reshape(a5,(10,2)))))\n",
        "print()\n"
      ],
      "metadata": {
        "id": "9nvibAuN0LeQ",
        "colab": {
          "base_uri": "https://localhost:8080/"
        },
        "outputId": "962ea406-af99-4773-9a23-a75cf9c27375"
      },
      "execution_count": null,
      "outputs": [
        {
          "output_type": "stream",
          "name": "stdout",
          "text": [
            "reshaped a5 and concatenated along axis=0\n",
            "[[ 1  2]\n",
            " [ 3  4]\n",
            " [ 5  6]\n",
            " [ 7  8]\n",
            " [ 9 10]\n",
            " [11 12]\n",
            " [13 14]\n",
            " [15 16]\n",
            " [17 18]\n",
            " [19 20]\n",
            " [ 1  2]\n",
            " [ 3  4]\n",
            " [ 5  6]\n",
            " [ 7  8]\n",
            " [ 9 10]\n",
            " [11 12]\n",
            " [13 14]\n",
            " [15 16]\n",
            " [17 18]\n",
            " [19 20]]\n",
            "\n",
            "reshaped a5 and concatenated along axis=1\n",
            "[[ 1  2  1  2]\n",
            " [ 3  4  3  4]\n",
            " [ 5  6  5  6]\n",
            " [ 7  8  7  8]\n",
            " [ 9 10  9 10]\n",
            " [11 12 11 12]\n",
            " [13 14 13 14]\n",
            " [15 16 15 16]\n",
            " [17 18 17 18]\n",
            " [19 20 19 20]]\n",
            "\n",
            "reshaped a5 and hstack\n",
            "[[ 1  2  1  2]\n",
            " [ 3  4  3  4]\n",
            " [ 5  6  5  6]\n",
            " [ 7  8  7  8]\n",
            " [ 9 10  9 10]\n",
            " [11 12 11 12]\n",
            " [13 14 13 14]\n",
            " [15 16 15 16]\n",
            " [17 18 17 18]\n",
            " [19 20 19 20]]\n",
            "\n",
            "reshaped a5 and vstack\n",
            "[[ 1  2]\n",
            " [ 3  4]\n",
            " [ 5  6]\n",
            " [ 7  8]\n",
            " [ 9 10]\n",
            " [11 12]\n",
            " [13 14]\n",
            " [15 16]\n",
            " [17 18]\n",
            " [19 20]\n",
            " [ 1  2]\n",
            " [ 3  4]\n",
            " [ 5  6]\n",
            " [ 7  8]\n",
            " [ 9 10]\n",
            " [11 12]\n",
            " [13 14]\n",
            " [15 16]\n",
            " [17 18]\n",
            " [19 20]]\n",
            "\n",
            "reshaped a5 and dstack\n",
            "[[[ 1  1]\n",
            "  [ 2  2]]\n",
            "\n",
            " [[ 3  3]\n",
            "  [ 4  4]]\n",
            "\n",
            " [[ 5  5]\n",
            "  [ 6  6]]\n",
            "\n",
            " [[ 7  7]\n",
            "  [ 8  8]]\n",
            "\n",
            " [[ 9  9]\n",
            "  [10 10]]\n",
            "\n",
            " [[11 11]\n",
            "  [12 12]]\n",
            "\n",
            " [[13 13]\n",
            "  [14 14]]\n",
            "\n",
            " [[15 15]\n",
            "  [16 16]]\n",
            "\n",
            " [[17 17]\n",
            "  [18 18]]\n",
            "\n",
            " [[19 19]\n",
            "  [20 20]]]\n",
            "\n"
          ]
        }
      ]
    },
    {
      "cell_type": "markdown",
      "source": [
        "**Find maximum element in array and print its value and its index using numpy inbuilt functions**"
      ],
      "metadata": {
        "id": "DP_fngKn0Okk"
      }
    },
    {
      "cell_type": "code",
      "source": [
        "a = np.array([100,40,30,106,4589,2,34,76,9777,1023,56,62,395])"
      ],
      "metadata": {
        "id": "vARhjyy80uZa"
      },
      "execution_count": null,
      "outputs": []
    },
    {
      "cell_type": "code",
      "source": [
        "value=np.max(a)\n",
        "index=np.argmax(a)\n",
        "print(f\"Max value: {value} and Max index: {index}\")"
      ],
      "metadata": {
        "colab": {
          "base_uri": "https://localhost:8080/"
        },
        "id": "ohnw53npJYzY",
        "outputId": "5f3d5c10-b5e9-466b-b84f-74e538e9fc2c"
      },
      "execution_count": null,
      "outputs": [
        {
          "output_type": "stream",
          "name": "stdout",
          "text": [
            "Max value: 9777 and Max index: 8\n"
          ]
        }
      ]
    },
    {
      "cell_type": "markdown",
      "source": [
        "**Print Dimensions Of The Given Array, shape of the array and size**\n",
        "\n",
        "**Iterate through the array 'a' skipping a value and printing the next value.**\n",
        "\n",
        "**Implement reshape on this array with your choice of parameters (not 1D)**\n",
        "\n",
        "**Make a 1D array also and sort the array, then find the indices of values ==6 using numpy functions**\n",
        "\n",
        "**On the 1D array, implement a numpy function to print values only above 100**\n",
        "\n"
      ],
      "metadata": {
        "id": "bPmS_0Bi1KfC"
      }
    },
    {
      "cell_type": "code",
      "source": [
        "a = np.array([[1,2,3],[4,5,6],[6,7,8],[7,8,9],[10,102,546]])"
      ],
      "metadata": {
        "id": "ynA4KebV1bgs"
      },
      "execution_count": null,
      "outputs": []
    },
    {
      "cell_type": "code",
      "source": [
        "# Printing array dimensions (axes)\n",
        "print(\"No. of dimensions: \", a.ndim)\n",
        "\n",
        "# Printing shape of array\n",
        "print(\"Shape of array: \", a.shape)\n",
        "\n",
        "# Printing size (total number of elements) of array\n",
        "print(\"Size of array: \", a.size)\n"
      ],
      "metadata": {
        "id": "sWyvAJ681xcj",
        "colab": {
          "base_uri": "https://localhost:8080/"
        },
        "outputId": "22237b86-9d23-4879-b194-7162d0fb7432"
      },
      "execution_count": null,
      "outputs": [
        {
          "output_type": "stream",
          "name": "stdout",
          "text": [
            "No. of dimensions:  2\n",
            "Shape of array:  (5, 3)\n",
            "Size of array:  15\n"
          ]
        }
      ]
    },
    {
      "cell_type": "code",
      "source": [
        "#Middle value for row will be skipped\n",
        "for row in a:\n",
        "    skip_next = False\n",
        "    for value in row:\n",
        "        if not skip_next:\n",
        "            print(value)\n",
        "        skip_next = not skip_next"
      ],
      "metadata": {
        "id": "9ZCE57ex4gq4",
        "colab": {
          "base_uri": "https://localhost:8080/"
        },
        "outputId": "c7f56594-60da-4854-c334-c36080b0b431"
      },
      "execution_count": null,
      "outputs": [
        {
          "output_type": "stream",
          "name": "stdout",
          "text": [
            "1\n",
            "3\n",
            "4\n",
            "6\n",
            "6\n",
            "8\n",
            "7\n",
            "9\n",
            "10\n",
            "546\n"
          ]
        }
      ]
    },
    {
      "cell_type": "code",
      "source": [
        "print(np.reshape(a,(3,5)))"
      ],
      "metadata": {
        "id": "VrqEZefcGSbn",
        "colab": {
          "base_uri": "https://localhost:8080/"
        },
        "outputId": "980a8bc4-f152-4772-a3d9-2ac6123dcc5d"
      },
      "execution_count": null,
      "outputs": [
        {
          "output_type": "stream",
          "name": "stdout",
          "text": [
            "[[  1   2   3   4   5]\n",
            " [  6   6   7   8   7]\n",
            " [  8   9  10 102 546]]\n"
          ]
        }
      ]
    },
    {
      "cell_type": "code",
      "source": [
        "b=np.reshape(a,(15))\n",
        "print(b)\n",
        "print(np.sort(b))\n",
        "indices = np.where(b == 6)[0]\n",
        "print(\"Indices of values equal to 6:\", indices)"
      ],
      "metadata": {
        "id": "qlq6Hk9oGSx4",
        "colab": {
          "base_uri": "https://localhost:8080/"
        },
        "outputId": "75742467-0534-4d78-b72d-fcb097d4d533"
      },
      "execution_count": null,
      "outputs": [
        {
          "output_type": "stream",
          "name": "stdout",
          "text": [
            "[  1   2   3   4   5   6   6   7   8   7   8   9  10 102 546]\n",
            "[  1   2   3   4   5   6   6   7   7   8   8   9  10 102 546]\n",
            "Indices of values equal to 6: [5 6]\n"
          ]
        }
      ]
    },
    {
      "cell_type": "code",
      "source": [
        "print(\"Array in which values are above 100: \", a[a>100])"
      ],
      "metadata": {
        "id": "xjLxz1eiGTYv",
        "colab": {
          "base_uri": "https://localhost:8080/"
        },
        "outputId": "a0a1b604-fb15-48af-c530-98b6dc383c9d"
      },
      "execution_count": null,
      "outputs": [
        {
          "output_type": "stream",
          "name": "stdout",
          "text": [
            "Array in which values are above 100:  [102 546]\n"
          ]
        }
      ]
    },
    {
      "cell_type": "markdown",
      "source": [
        "**Create a NumPy array with the integers from your birthdate (year, month, and day)**\n",
        "\n",
        "**Retrieve the year.**\n",
        "\n",
        "**Replace the year with the current year**\n",
        "\n",
        "**Create a NumPy array containing every 3rd number from 567 to 890. What is the 8th number in this array?  What is the 15th?**"
      ],
      "metadata": {
        "id": "vORRRv0816qS"
      }
    },
    {
      "cell_type": "code",
      "source": [
        "birth_date = np.array([2002, 9, 20])\n",
        "print(\"Birthdate:\", birth_date)"
      ],
      "metadata": {
        "id": "bflW-Wwb2Xua",
        "colab": {
          "base_uri": "https://localhost:8080/"
        },
        "outputId": "84927120-6c86-4ce1-f809-2bf3a3e0dede"
      },
      "execution_count": null,
      "outputs": [
        {
          "output_type": "stream",
          "name": "stdout",
          "text": [
            "Birthdate: [2002    9   20]\n"
          ]
        }
      ]
    },
    {
      "cell_type": "code",
      "source": [
        "Birth_Year=birth_date[0]\n",
        "print(Birth_Year)"
      ],
      "metadata": {
        "id": "G-Fq7U6jGWbI",
        "colab": {
          "base_uri": "https://localhost:8080/"
        },
        "outputId": "be59e937-ce8e-40eb-e712-a5381009171d"
      },
      "execution_count": null,
      "outputs": [
        {
          "output_type": "stream",
          "name": "stdout",
          "text": [
            "2002\n"
          ]
        }
      ]
    },
    {
      "cell_type": "code",
      "source": [
        "birth_date[0]=2023\n",
        "print(birth_date)"
      ],
      "metadata": {
        "id": "iI3aRu79GWj0",
        "colab": {
          "base_uri": "https://localhost:8080/"
        },
        "outputId": "0733730b-f2b7-4c40-dab6-ab996f02f170"
      },
      "execution_count": null,
      "outputs": [
        {
          "output_type": "stream",
          "name": "stdout",
          "text": [
            "[2023    9   20]\n"
          ]
        }
      ]
    },
    {
      "cell_type": "code",
      "source": [
        "arr=np.arange(567,890,3)\n",
        "print(arr)\n",
        "print()\n",
        "\n",
        "#8th number will be on index 7 as numbering starts from 0\n",
        "b=arr[7]\n",
        "print(\"8th number: \",b)\n",
        "print()\n",
        "\n",
        "#15th number will be on index 14 as numbering starts from 0\n",
        "c=arr[14]\n",
        "print(\"15th number: \",c)"
      ],
      "metadata": {
        "id": "nDSzTgiLGWte",
        "colab": {
          "base_uri": "https://localhost:8080/"
        },
        "outputId": "d1fadcdf-9b18-4d8a-cfee-b64a0134f5f2"
      },
      "execution_count": null,
      "outputs": [
        {
          "output_type": "stream",
          "name": "stdout",
          "text": [
            "[567 570 573 576 579 582 585 588 591 594 597 600 603 606 609 612 615 618\n",
            " 621 624 627 630 633 636 639 642 645 648 651 654 657 660 663 666 669 672\n",
            " 675 678 681 684 687 690 693 696 699 702 705 708 711 714 717 720 723 726\n",
            " 729 732 735 738 741 744 747 750 753 756 759 762 765 768 771 774 777 780\n",
            " 783 786 789 792 795 798 801 804 807 810 813 816 819 822 825 828 831 834\n",
            " 837 840 843 846 849 852 855 858 861 864 867 870 873 876 879 882 885 888]\n",
            "\n",
            "8th number:  588\n",
            "\n",
            "15th number:  609\n"
          ]
        }
      ]
    },
    {
      "cell_type": "markdown",
      "source": [
        "**Evaluate (PEMDAS):**\n",
        "1. ((((12+7)*2)-4)/2)-13\n",
        "2. 5+5/5\n",
        "3. 2*5//4\n",
        "4. 2\\*\\*3\\*\\*2\n",
        "5. (2\\*\\*3)\\*\\*2"
      ],
      "metadata": {
        "id": "jb9XY6DxVhVa"
      }
    },
    {
      "cell_type": "code",
      "source": [
        "num_1=((((12+7)*2)-4)/2)-13\n",
        "print(num_1)"
      ],
      "metadata": {
        "id": "J1E-tyIhGX9Q",
        "colab": {
          "base_uri": "https://localhost:8080/"
        },
        "outputId": "095773f1-2c39-46ad-9d21-39114c63cd64"
      },
      "execution_count": null,
      "outputs": [
        {
          "output_type": "stream",
          "name": "stdout",
          "text": [
            "4.0\n"
          ]
        }
      ]
    },
    {
      "cell_type": "code",
      "source": [
        "num_2=5+5/5\n",
        "print(num_2)"
      ],
      "metadata": {
        "id": "BE1gltg6GYGb",
        "colab": {
          "base_uri": "https://localhost:8080/"
        },
        "outputId": "373b4b18-ff58-4f46-b360-e8bd03d9660e"
      },
      "execution_count": null,
      "outputs": [
        {
          "output_type": "stream",
          "name": "stdout",
          "text": [
            "6.0\n"
          ]
        }
      ]
    },
    {
      "cell_type": "code",
      "source": [
        "num_3=2*5//4\n",
        "print(num_3)"
      ],
      "metadata": {
        "id": "nSYbW9bbGYOx",
        "colab": {
          "base_uri": "https://localhost:8080/"
        },
        "outputId": "b3f07c84-3935-46ed-f0d1-9e52cb4f003c"
      },
      "execution_count": null,
      "outputs": [
        {
          "output_type": "stream",
          "name": "stdout",
          "text": [
            "2\n"
          ]
        }
      ]
    },
    {
      "cell_type": "code",
      "source": [
        "num_4=2**3**2\n",
        "print(num_4)"
      ],
      "metadata": {
        "id": "CdWxWF9jGYXp",
        "colab": {
          "base_uri": "https://localhost:8080/"
        },
        "outputId": "55c72004-a3d4-4551-f34e-16b9477a4850"
      },
      "execution_count": null,
      "outputs": [
        {
          "output_type": "stream",
          "name": "stdout",
          "text": [
            "512\n"
          ]
        }
      ]
    },
    {
      "cell_type": "code",
      "source": [
        "num_5=(2**3)**2\n",
        "print(num_5)"
      ],
      "metadata": {
        "id": "0UzaLAjcGYgT",
        "colab": {
          "base_uri": "https://localhost:8080/"
        },
        "outputId": "e064b8f6-0f7d-4a32-d04a-64e62c601f81"
      },
      "execution_count": null,
      "outputs": [
        {
          "output_type": "stream",
          "name": "stdout",
          "text": [
            "64\n"
          ]
        }
      ]
    }
  ]
}
{
  "nbformat": 4,
  "nbformat_minor": 0,
  "metadata": {
    "colab": {
      "provenance": []
    },
    "kernelspec": {
      "name": "python3",
      "display_name": "Python 3"
    },
    "language_info": {
      "name": "python"
    }
  },
  "cells": [
    {
      "cell_type": "markdown",
      "source": [
        "# Q.1(a)"
      ],
      "metadata": {
        "id": "5OYVXcygPpfr"
      }
    },
    {
      "cell_type": "markdown",
      "source": [
        "Using global keyword inside the function\n"
      ],
      "metadata": {
        "id": "-x6ZFHjAYWnX"
      }
    },
    {
      "cell_type": "code",
      "execution_count": null,
      "metadata": {
        "colab": {
          "base_uri": "https://localhost:8080/"
        },
        "id": "wnn9OBNMYPMH",
        "outputId": "d49e2e26-2f37-4f99-ab5f-c4fcb7e1951a"
      },
      "outputs": [
        {
          "output_type": "stream",
          "name": "stdout",
          "text": [
            "Outside function before calling: x = 10\n",
            "Inside function: x = 20, y = 20\n",
            "Outside function after calling: x = 20\n"
          ]
        }
      ],
      "source": [
        "x=10\n",
        "def mod_var_with_global():\n",
        "  global x\n",
        "  x=20\n",
        "  y=20\n",
        "  print(f\"Inside function: x = {x}, y = {y}\")\n",
        "\n",
        "print(f\"Outside function before calling: x = {x}\")\n",
        "mod_var_with_global()\n",
        "print(f\"Outside function after calling: x = {x}\")"
      ]
    },
    {
      "cell_type": "markdown",
      "source": [
        "Without using global keyword inside the function\n",
        "\n"
      ],
      "metadata": {
        "id": "JL1rhdi4Yr7K"
      }
    },
    {
      "cell_type": "code",
      "source": [
        "x=10\n",
        "def mod_var_with_global():\n",
        "  x=20\n",
        "  y=20\n",
        "  print(f\"Inside function: x = {x}, y = {y}\")\n",
        "\n",
        "print(f\"Outside function before calling: x = {x}\")\n",
        "mod_var_with_global()\n",
        "print(f\"Outside function after calling: x = {x}\")"
      ],
      "metadata": {
        "colab": {
          "base_uri": "https://localhost:8080/"
        },
        "id": "vKxtxNh1YraD",
        "outputId": "25dbb599-a98c-41b8-94b6-45104dde6534"
      },
      "execution_count": null,
      "outputs": [
        {
          "output_type": "stream",
          "name": "stdout",
          "text": [
            "Outside function before calling: x = 10\n",
            "Inside function: x = 20, y = 20\n",
            "Outside function after calling: x = 10\n"
          ]
        }
      ]
    },
    {
      "cell_type": "markdown",
      "source": [
        "# Q.1(b)"
      ],
      "metadata": {
        "id": "zJcziDOlPxAr"
      }
    },
    {
      "cell_type": "markdown",
      "source": [
        "Inner and outer function"
      ],
      "metadata": {
        "id": "p3Q4oN1sZuiS"
      }
    },
    {
      "cell_type": "code",
      "source": [
        "def outer_function():\n",
        "  x = 5\n",
        "\n",
        "  def inner_function():\n",
        "      print(f\"Value of local x in inner function: {x}\")\n",
        "\n",
        "  inner_function()\n",
        "\n",
        "  print(f\"Value of local x in outer function: {x}\")\n",
        "\n",
        "outer_function()\n"
      ],
      "metadata": {
        "colab": {
          "base_uri": "https://localhost:8080/"
        },
        "id": "d4POLtaaZcEq",
        "outputId": "34262928-d6ac-4663-c653-1ee52bfd0aa3"
      },
      "execution_count": null,
      "outputs": [
        {
          "output_type": "stream",
          "name": "stdout",
          "text": [
            "Value of local x in inner function: 5\n",
            "Value of local x in outer function: 5\n"
          ]
        }
      ]
    },
    {
      "cell_type": "markdown",
      "source": [
        "# Q.1(c)"
      ],
      "metadata": {
        "id": "utq_Th32PzH3"
      }
    },
    {
      "cell_type": "markdown",
      "source": [
        "Modify string"
      ],
      "metadata": {
        "id": "vzIDijYwbDy_"
      }
    },
    {
      "cell_type": "code",
      "source": [
        "def modify_string(text, char):\n",
        "    modified_text = text.replace(char, '*')\n",
        "    return modified_text\n",
        "\n",
        "text_input = \"character\"\n",
        "char_input = \"char\"\n",
        "\n",
        "modified_result = modify_string(text_input, char_input)\n",
        "print(\"Modified string:\", modified_result)\n"
      ],
      "metadata": {
        "colab": {
          "base_uri": "https://localhost:8080/"
        },
        "id": "0nRouJIjeZp6",
        "outputId": "0732b7d6-517d-40e7-c460-01bc3036d9c3"
      },
      "execution_count": null,
      "outputs": [
        {
          "output_type": "stream",
          "name": "stdout",
          "text": [
            "Modified string: *acter\n"
          ]
        }
      ]
    },
    {
      "cell_type": "markdown",
      "source": [
        "# Q.1(d)"
      ],
      "metadata": {
        "id": "7PdCNXoGP1UU"
      }
    },
    {
      "cell_type": "code",
      "source": [
        "from math import log\n",
        "from functools import reduce\n",
        "\n",
        "lst = list(range(1, 101))\n",
        "\n",
        "lambda_b = lambda x: log(x) + 1\n",
        "lst_b = list(map(lambda_b, lst))\n",
        "print(\"List after lambda function b:\", lst_b)\n",
        "\n",
        "lambda_c = lambda x: x % 5 == 0\n",
        "filtered_lst = list(filter(lambda_c, lst))\n",
        "print(\"List after filtering:\", filtered_lst)\n",
        "\n",
        "lambda_d = lambda x, y: x + y\n",
        "sum_result = reduce(lambda_d, lst)\n",
        "print(\"Sum of all elements in the list:\", sum_result)\n",
        "\n"
      ],
      "metadata": {
        "colab": {
          "base_uri": "https://localhost:8080/"
        },
        "id": "Twi6s7xWfshx",
        "outputId": "393bb2b6-5b70-4927-af84-79d95823bb10"
      },
      "execution_count": null,
      "outputs": [
        {
          "output_type": "stream",
          "name": "stdout",
          "text": [
            "List after lambda function b: [1.0, 1.6931471805599454, 2.09861228866811, 2.386294361119891, 2.6094379124341005, 2.791759469228055, 2.9459101490553135, 3.0794415416798357, 3.1972245773362196, 3.302585092994046, 3.3978952727983707, 3.4849066497880004, 3.5649493574615367, 3.6390573296152584, 3.70805020110221, 3.772588722239781, 3.833213344056216, 3.8903717578961645, 3.9444389791664403, 3.995732273553991, 4.044522437723423, 4.091042453358316, 4.13549421592915, 4.178053830347945, 4.218875824868201, 4.258096538021482, 4.295836866004329, 4.332204510175204, 4.367295829986475, 4.401197381662156, 4.433987204485146, 4.465735902799727, 4.49650756146648, 4.526360524616162, 4.555348061489413, 4.58351893845611, 4.610917912644224, 4.637586159726386, 4.663561646129646, 4.688879454113936, 4.713572066704308, 4.737669618283368, 4.761200115693562, 4.7841896339182615, 4.80666248977032, 4.828641396489095, 4.850147601710058, 4.871201010907891, 4.891820298110627, 4.912023005428146, 4.931825632724326, 4.951243718581427, 4.970291913552122, 4.9889840465642745, 5.007333185232471, 5.02535169073515, 5.04305126783455, 5.060443010546419, 5.07753744390572, 5.0943445622221, 5.110873864173311, 5.127134385045092, 5.143134726391533, 5.1588830833596715, 5.174387269895637, 5.189654742026425, 5.204692619390966, 5.219507705176107, 5.23410650459726, 5.248495242049359, 5.2626798770413155, 5.276666119016055, 5.290459441148391, 5.30406509320417, 5.31748811353631, 5.330733340286331, 5.343805421853684, 5.356708826689592, 5.3694478524670215, 5.382026634673881, 5.394449154672439, 5.406719247264253, 5.418840607796598, 5.430816798843313, 5.442651256490317, 5.454347296253507, 5.465908118654584, 5.477336814478207, 5.48863636973214, 5.499809670330265, 5.51085950651685, 5.5217885770490405, 5.532599493153256, 5.543294782270004, 5.553876891600541, 5.564348191467836, 5.574710978503383, 5.584967478670572, 5.59511985013459, 5.605170185988092]\n",
            "List after filtering: [5, 10, 15, 20, 25, 30, 35, 40, 45, 50, 55, 60, 65, 70, 75, 80, 85, 90, 95, 100]\n",
            "Sum of all elements in the list: 5050\n"
          ]
        }
      ]
    },
    {
      "cell_type": "markdown",
      "source": [
        "# Q.1(e)"
      ],
      "metadata": {
        "id": "sE3gqgnpP3TA"
      }
    },
    {
      "cell_type": "markdown",
      "source": [
        "## Method-1"
      ],
      "metadata": {
        "id": "n0DRXK0xTpsu"
      }
    },
    {
      "cell_type": "code",
      "source": [
        "\n",
        "def calculate_score(player_name, *attempts):\n",
        "    max_attempts = 10\n",
        "    total_attempts = len(attempts)\n",
        "\n",
        "    if total_attempts > max_attempts:\n",
        "        raise ValueError(f\"{player_name} exceeded the maximum number of attempts.\")\n",
        "\n",
        "    success_attempts=attempts.count(1)\n",
        "    num_free_throws = attempts.count(2)\n",
        "    score = success_attempts * points_per_attempt + num_free_throws * free_throw_points\n",
        "    return score\n",
        "points_per_attempt=2\n",
        "free_throw_points=3\n",
        "# Player A\n",
        "team_a_score = calculate_score(\"Player A\",1, 0, 1, 1, 0, 2, 1, 0, 1, 0)\n",
        "\n",
        "# Player B\n",
        "team_b_score = calculate_score(\"Player B\",0, 1, 0, 1, 2, 1, 0, 0)\n",
        "\n",
        "print(\"Team A Score:\", team_a_score)\n",
        "print(\"Team B Score:\", team_b_score)\n",
        "\n",
        "if team_a_score > team_b_score:\n",
        "    print(\"Team A Won\")\n",
        "    print(\"Team B: Better Luck next time\")\n",
        "elif team_b_score > team_a_score:\n",
        "    print(\"Team B won!\")\n",
        "    print(\"Team A: Better Luck next time\")\n",
        "else:\n",
        "    print(\"Tie\")\n"
      ],
      "metadata": {
        "colab": {
          "base_uri": "https://localhost:8080/"
        },
        "id": "mxYr9vAiTVrN",
        "outputId": "35bdbe2e-f0a2-44b8-d082-18e1e4eab195"
      },
      "execution_count": 10,
      "outputs": [
        {
          "output_type": "stream",
          "name": "stdout",
          "text": [
            "Team A Score: 13\n",
            "Team B Score: 9\n",
            "Team A Won\n",
            "Team B: Better Luck next time\n"
          ]
        }
      ]
    },
    {
      "cell_type": "markdown",
      "source": [
        "Since the question is unclear, we are assuming certain things.\n",
        "1. Both the teams have combined 10 attempts.\n",
        "2. We are sure that A got 5 attempts and B got 3 attempts (we don't know which attempt is 3 pointer which is 2 pointer)\n",
        "3. For the remaining 2 attempts either A can take them or B or both"
      ],
      "metadata": {
        "id": "72vL2AqJJ5Bp"
      }
    },
    {
      "cell_type": "markdown",
      "source": [
        "## Method:2"
      ],
      "metadata": {
        "id": "JwnFcX6NSoCW"
      }
    },
    {
      "cell_type": "code",
      "source": [
        "def compute_scores(*args):\n",
        "    points_teamA = args[0]*2 + args[2] * 3\n",
        "    points_teamB = args[1]*2 + args[3] * 3\n",
        "\n",
        "    print(\"Team A :\", points_teamA)\n",
        "    print(\"Team B :\", points_teamB)\n",
        "\n",
        "    if points_teamA > points_teamB:\n",
        "        print(\"Team A Won\")\n",
        "        print(\"Team B: Better Luck next time\")\n",
        "    elif points_teamA < points_teamB:\n",
        "        print(\"Team B won!\")\n",
        "        print(\"Team A: Better Luck next time\")\n",
        "    else:\n",
        "        print(\"Tie\")\n",
        "lst=[]\n",
        "while True:\n",
        "  while True:\n",
        "    a = int(input(\"Enter the no. of 2 point for A (success): \"))\n",
        "    c = int(input(\"Enter the no. of 3 point for A (success): \"))\n",
        "    if 5<=a+c<=7:\n",
        "        break\n",
        "    else:\n",
        "        print(\"Attempts of A are minimum 5 and maximum 7\")\n",
        "  lst.append(a)\n",
        "  lst.append(c)\n",
        "  while True:\n",
        "    b = int(input(\"Enter the no. of 2 point for B (success): \"))\n",
        "    d = int(input(\"Enter the no. of 3 point for B (success): \"))\n",
        "    if 3<=b+d<=5:\n",
        "        break\n",
        "    else:\n",
        "        print(\"Attempts of B are minimum 3 and maximum 5\")\n",
        "  lst.append(b)\n",
        "  lst.append(d)\n",
        "  if a+b+c+d==10:\n",
        "    break\n",
        "  else:\n",
        "    print(\"Total attempts are 10\")\n",
        "arg_values = lst\n",
        "arg_values = [int(value) for value in arg_values]\n",
        "compute_scores(*arg_values)"
      ],
      "metadata": {
        "colab": {
          "base_uri": "https://localhost:8080/"
        },
        "id": "SrJ6Vv-r3vlg",
        "outputId": "7093df8e-4551-47fb-db5e-a321b11c8522"
      },
      "execution_count": null,
      "outputs": [
        {
          "output_type": "stream",
          "name": "stdout",
          "text": [
            "Enter the no. of 2 point for A (success): 2\n",
            "Enter the no. of 3 point for A (success): 3\n",
            "Enter the no. of 2 point for B (success): 3\n",
            "Enter the no. of 3 point for B (success): 2\n",
            "Team A : 13\n",
            "Team B : 10\n",
            "Team A Won\n"
          ]
        }
      ]
    },
    {
      "cell_type": "markdown",
      "source": [
        "# Q.2(a)"
      ],
      "metadata": {
        "id": "H0ZTZP17eSEB"
      }
    },
    {
      "cell_type": "code",
      "source": [
        "class Car():\n",
        "  def __init__(self,make,model,year):\n",
        "    self.make=make\n",
        "    self.model=model\n",
        "    self.year=year\n",
        "\n",
        "  def info_display(self):\n",
        "    print(f\"Car Information:\\nMake: {self.make}\\nModel: {self.model}\\nYear: {self.year}\")\n",
        "\n",
        "car1 = Car(\"Audi\", \"R8\", 2023)\n",
        "car1.info_display()"
      ],
      "metadata": {
        "colab": {
          "base_uri": "https://localhost:8080/"
        },
        "id": "74nGwYGopoXO",
        "outputId": "9519d0b1-3eef-4ca5-9a12-e1a80c42beae"
      },
      "execution_count": null,
      "outputs": [
        {
          "output_type": "stream",
          "name": "stdout",
          "text": [
            "Car Information:\n",
            "Make: Audi\n",
            "Model: R8\n",
            "Year: 2023\n"
          ]
        }
      ]
    },
    {
      "cell_type": "markdown",
      "source": [
        "# Q.2(b)"
      ],
      "metadata": {
        "id": "r2KNwFLJeWX9"
      }
    },
    {
      "cell_type": "code",
      "source": [
        "class Car():\n",
        "  def __init__(self,make,model,year):\n",
        "    self.make=make\n",
        "    self.model=model\n",
        "    self.year=year\n",
        "\n",
        "  def info_display(self):\n",
        "    print(f\"Car Information:\\nMake: {self.make}\\nModel: {self.model}\\nYear: {self.year}\")\n",
        "\n",
        "class ElectricCar(Car):\n",
        "  def __init__(self, make, model, year, battery_capacity):\n",
        "        super().__init__(make, model, year)\n",
        "        self.battery_capacity = battery_capacity\n",
        "\n",
        "  def display_battery_info(self):\n",
        "        print(f\"\\nBattery Capacity: {self.battery_capacity} kWh\")\n",
        "\n",
        "car1 = ElectricCar(\"Audi\", \"R8\", 2023,50)\n",
        "car1.info_display()\n",
        "car1.display_battery_info()"
      ],
      "metadata": {
        "colab": {
          "base_uri": "https://localhost:8080/"
        },
        "id": "93UQXX-iqlJd",
        "outputId": "b4300bf8-8fc2-4b71-cd4d-dc7353bbd351"
      },
      "execution_count": null,
      "outputs": [
        {
          "output_type": "stream",
          "name": "stdout",
          "text": [
            "Car Information:\n",
            "Make: Audi\n",
            "Model: R8\n",
            "Year: 2023\n",
            "Battery Information:\n",
            "Battery Capacity: 50 kWh\n"
          ]
        }
      ]
    },
    {
      "cell_type": "markdown",
      "source": [
        "# Q.2(c)"
      ],
      "metadata": {
        "id": "89eUE2Zxeafh"
      }
    },
    {
      "cell_type": "code",
      "source": [
        "class Car():\n",
        "  def __init__(self,make,model,year):\n",
        "    self.make=make\n",
        "    self.model=model\n",
        "    self.year=year\n",
        "\n",
        "  def info_display(self):\n",
        "    print(f\"Car Information:\\nMake: {self.make}\\nModel: {self.model}\\nYear: {self.year}\")\n",
        "\n",
        "class ElectricCar(Car):\n",
        "  def __init__(self, make, model, year, battery_capacity):\n",
        "        super().__init__(make, model, year)\n",
        "        self.battery_capacity = battery_capacity\n",
        "\n",
        "  def display_battery_info(self):\n",
        "        print(f\"Battery Capacity: {self.battery_capacity} kWh\")\n",
        "\n",
        "def display_car_list(car_list):\n",
        "    for car in car_list:\n",
        "        car.info_display()\n",
        "        if isinstance(car, ElectricCar):\n",
        "            car.display_battery_info()\n",
        "        print()\n",
        "\n",
        "car_instances = []\n",
        "\n",
        "\n",
        "num_cars = int(input(\"Enter the number of cars: \"))\n",
        "for _ in range(num_cars):\n",
        "    car_type = input(\"Enter car type (regular/electric): \").lower()\n",
        "    if car_type == \"regular\":\n",
        "        company = input(\"Enter the car company: \")\n",
        "        model = input(\"Enter the model: \")\n",
        "        year = input(\"Enter the year: \")\n",
        "        car = Car(company, model, year)\n",
        "    elif car_type == \"electric\":\n",
        "        company = input(\"Enter the electric car company: \")\n",
        "        model = input(\"Enter the model: \")\n",
        "        year = input(\"Enter the year: \")\n",
        "        capacity = float(input(\"Enter the battery capacity (in kWh): \"))\n",
        "        car = ElectricCar(company, model, year, capacity)\n",
        "    else:\n",
        "        print(\"Invalid car type. Please enter 'regular' or 'electric'.\")\n",
        "        continue\n",
        "    car_instances.append(car)\n",
        "\n",
        "\n",
        "display_car_list(car_instances)\n",
        "\n"
      ],
      "metadata": {
        "colab": {
          "base_uri": "https://localhost:8080/"
        },
        "id": "kSyAC3MVso2C",
        "outputId": "9d0bd4fe-0ab1-4124-85be-62400053b984"
      },
      "execution_count": null,
      "outputs": [
        {
          "output_type": "stream",
          "name": "stdout",
          "text": [
            "Enter the number of cars: 2\n",
            "Enter car type (regular/electric): Regular\n",
            "Enter the car company: Audi\n",
            "Enter the model: R8\n",
            "Enter the year: 1\n",
            "Enter car type (regular/electric): Electric\n",
            "Enter the electric car company: Mercedez\n",
            "Enter the model: D\n",
            "Enter the year: 2\n",
            "Enter the battery capacity (in kWh): 3\n",
            "Car Information:\n",
            "Make: Audi\n",
            "Model: R8\n",
            "Year: 1\n",
            "\n",
            "Car Information:\n",
            "Make: Mercedez\n",
            "Model: D\n",
            "Year: 2\n",
            "Battery Capacity: 3.0 kWh\n",
            "\n"
          ]
        }
      ]
    },
    {
      "cell_type": "markdown",
      "source": [
        "#Q.2(d)"
      ],
      "metadata": {
        "id": "JHRc6WK2fBlt"
      }
    },
    {
      "cell_type": "code",
      "source": [
        "class Person():\n",
        "    def __init__(self, name, age):\n",
        "        self.name = name\n",
        "        self.age = age\n",
        "\n",
        "class Student(Person):\n",
        "    def __init__(self, name, age, stu_id):\n",
        "        Person.__init__(self, name, age)\n",
        "        self.stu_id = stu_id\n",
        "\n",
        "class Employee(Person):\n",
        "    def __init__(self, name, age, emp_id):\n",
        "        Person.__init__(self, name, age)\n",
        "        self.emp_id = emp_id\n",
        "\n",
        "class Resident(Student, Employee):\n",
        "    def __init__(self, name, age, stu_id, emp_id, address):\n",
        "        Student.__init__(self, name, age, stu_id)\n",
        "        Employee.__init__(self, name, age, emp_id)\n",
        "        self.address = address\n",
        "\n",
        "resident1 = Resident(\"Sugandh\", 20, \"123\", \"987\", \"VC\")\n",
        "\n",
        "print(\"Name:\", resident1.name)\n",
        "print(\"Age:\", resident1.age)\n",
        "print(\"Student ID:\", resident1.stu_id)\n",
        "print(\"Employee ID:\", resident1.emp_id)\n",
        "print(\"Address:\", resident1.address)"
      ],
      "metadata": {
        "colab": {
          "base_uri": "https://localhost:8080/"
        },
        "id": "L-OS4xhUyMdK",
        "outputId": "0b49cb60-8713-48fb-9653-f6e1e66a866d"
      },
      "execution_count": null,
      "outputs": [
        {
          "output_type": "stream",
          "name": "stdout",
          "text": [
            "Name: Sugandh\n",
            "Age: 20\n",
            "Student ID: 123\n",
            "Employee ID: 987\n",
            "Address: VC\n"
          ]
        }
      ]
    },
    {
      "cell_type": "markdown",
      "source": [
        "# Q.2(e)"
      ],
      "metadata": {
        "id": "F6imI60iehUt"
      }
    },
    {
      "cell_type": "code",
      "source": [
        "class BankAccount():\n",
        "  def __init__(self,account_number,balance,account_holder):\n",
        "    self.account_number=account_number\n",
        "    self.balance=balance\n",
        "    self.account_holder=account_holder\n",
        "    self.daily_withdrawal_limit = 1000\n",
        "\n",
        "  def deposit(self,amount_deposited):\n",
        "    self.balance+=amount_deposited\n",
        "    print(f\"Deposited Rs{amount_deposited}. New balance: Rs.{self.balance}\")\n",
        "\n",
        "\n",
        "  def withdraw(self,amount_withdrawn):\n",
        "    if(amount_withdrawn<self.daily_withdrawal_limit):\n",
        "      self.balance=self.balance-amount_withdrawn\n",
        "      self.daily_withdrawal_limit -= amount_withdrawn\n",
        "      print(f\"Withdrawn Rs{amount_withdrawn}. New balance: Rs.{self.balance}\")\n",
        "    else:\n",
        "      print(\"Amount exceeded than daily withdrawal limit\")\n",
        "\n",
        "  def set_daily_withdrawal_limit(self, limit):\n",
        "        self.daily_withdrawal_limit = limit\n",
        "        print(f\"Daily withdrawal limit set to Rs.{limit}\")\n",
        "\n",
        "\n",
        "  def info_display(self):\n",
        "    print(f\"Account Information:\\nAccount Number: {self.account_number}\\nBalance: Rs.{self.balance}\\nAccount Holder: {self.account_holder}\")\n",
        "\n",
        "account1 = BankAccount(\"98765\", 10000, \"Sugandh\")\n",
        "\n",
        "account1.deposit(1000)\n",
        "account1.withdraw(250)\n",
        "\n",
        "\n",
        "account1.info_display()\n",
        "\n"
      ],
      "metadata": {
        "id": "ZGObNgn6sMzM",
        "colab": {
          "base_uri": "https://localhost:8080/"
        },
        "outputId": "d3f7ba68-ea47-457c-8b3f-9ec81fbe443d"
      },
      "execution_count": null,
      "outputs": [
        {
          "output_type": "stream",
          "name": "stdout",
          "text": [
            "Deposited Rs1000. New balance: Rs.11000\n",
            "Withdrawn Rs250. New balance: Rs.10750\n",
            "Account Information:\n",
            "Account Number: 98765\n",
            "Balance: Rs.10750\n",
            "Account Holder: Sugandh\n"
          ]
        }
      ]
    },
    {
      "cell_type": "markdown",
      "source": [
        "# Q.2(f)"
      ],
      "metadata": {
        "id": "2UpWU8tMeyhl"
      }
    },
    {
      "cell_type": "code",
      "source": [
        "import math\n",
        "\n",
        "class Shape:\n",
        "    def area(self):\n",
        "        pass\n",
        "\n",
        "class Circle(Shape):\n",
        "    def __init__(self, radius):\n",
        "        self.radius = radius\n",
        "\n",
        "    def area(self):\n",
        "        return math.pi * self.radius ** 2\n",
        "\n",
        "class Rectangle(Shape):\n",
        "    def __init__(self, length, width):\n",
        "        self.length = length\n",
        "        self.width = width\n",
        "\n",
        "    def area(self):\n",
        "        return self.length * self.width\n",
        "\n",
        "class Triangle(Shape):\n",
        "    def __init__(self, base, height):\n",
        "        self.base = base\n",
        "        self.height = height\n",
        "\n",
        "    def area(self):\n",
        "        return 0.5 * self.base * self.height\n",
        "\n",
        "\n",
        "circle = Circle(10)\n",
        "rectangle = Rectangle(6, 3)\n",
        "triangle = Triangle(10, 12)\n",
        "\n",
        "\n",
        "print(\"Area of Circle:\", circle.area())\n",
        "print(\"Area of Rectangle:\", rectangle.area())\n",
        "print(\"Area of Triangle:\", triangle.area())"
      ],
      "metadata": {
        "id": "SWfejH0JE1oC",
        "colab": {
          "base_uri": "https://localhost:8080/"
        },
        "outputId": "a5b3c7a3-b788-4920-98e7-5605bde81594"
      },
      "execution_count": null,
      "outputs": [
        {
          "output_type": "stream",
          "name": "stdout",
          "text": [
            "Area of Circle: 314.1592653589793\n",
            "Area of Rectangle: 18\n",
            "Area of Triangle: 60.0\n"
          ]
        }
      ]
    }
  ]
}
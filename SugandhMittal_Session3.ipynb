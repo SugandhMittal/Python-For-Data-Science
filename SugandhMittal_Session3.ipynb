{
  "nbformat": 4,
  "nbformat_minor": 0,
  "metadata": {
    "colab": {
      "provenance": []
    },
    "kernelspec": {
      "name": "python3",
      "display_name": "Python 3"
    },
    "language_info": {
      "name": "python"
    }
  },
  "cells": [
    {
      "cell_type": "markdown",
      "source": [
        "# Exercise: Hello\n",
        "Write a hello function\n",
        "\n",
        "*   Ask the user to enter the name\n",
        "*   Ask the user to enter how many times the name to be printed\n",
        "*  Use a for loop to print that many number of times the name.\n",
        "\n",
        "\n",
        "\n",
        "\n",
        "\n"
      ],
      "metadata": {
        "id": "rEGFLx-YeQjf"
      }
    },
    {
      "cell_type": "code",
      "execution_count": null,
      "metadata": {
        "id": "nhmLU_SbdxnN",
        "colab": {
          "base_uri": "https://localhost:8080/"
        },
        "outputId": "f420d8ff-9df2-4573-bd7e-797b3ce935c6"
      },
      "outputs": [
        {
          "output_type": "stream",
          "name": "stdout",
          "text": [
            "Enter your name?\n",
            "Sugandh\n",
            "How many times you want the name to be printed?\n",
            "5\n",
            "Sugandh\n",
            "Sugandh\n",
            "Sugandh\n",
            "Sugandh\n",
            "Sugandh\n"
          ]
        }
      ],
      "source": [
        "# Write your Code here:\n",
        "x=input('Enter your name?\\n')\n",
        "y=int(input('How many times you want the name to be printed?\\n'))\n",
        "for i in range(0,y):\n",
        "  print(x)\n",
        "\n"
      ]
    },
    {
      "cell_type": "markdown",
      "source": [
        "\n",
        "\n",
        "# Exercise: For Loops with Break, Continue, and Pass\n",
        "\n",
        "1. Write a function, `loop_break`, which will allow you to demonstrate the use of the `break` statement in a `for` loop.\n",
        "2. The function should take as input a list of numbers and a target number.\n",
        "3. Use a `for` loop to iterate over the numbers in the list.\n",
        "4. If the current number is equal to the target number, print a message and break out of the loop.\n",
        "5. Write another function, `loop_continue`, which will allow you to demonstrate the use of the `continue` statement in a `for` loop.\n",
        "6. The function should take as input a list of numbers and a target number.\n",
        "7. Use a `for` loop to iterate over the numbers in the list.\n",
        "8. If the current number is equal to the target number, skip it using the `continue` statement.\n",
        "9. Write another function, `loop_pass`, which will allow you to demonstrate the use of the `pass` statement in a `for` loop.\n",
        "10. The function should take as input a list of numbers and a target number.\n",
        "11. Use a `for` loop to iterate over the numbers in the list.\n",
        "12. If the current number is equal to the target number, do nothing using the `pass` statement.\n",
        "\n",
        "Example:\n",
        "\n",
        "```python\n",
        "\n",
        "numbers = [1, 2, 3, 4, 5]\n",
        "target = 3\n",
        "\n",
        "loop_break(numbers, target)     # Target 3 found!\n",
        "loop_continue(numbers, target)  # 1 2 4 5\n",
        "loop_pass(numbers, target)      # 1 2 3 4 5\n",
        "```\n",
        "\n",
        " The `loop_break` function takes as input a list of numbers and a target number. It uses a `for` loop to iterate over the numbers in the list and checks if each number is equal to the target number. If it is, it prints a message and breaks out of the loop using the `break` statement.\n",
        "\n",
        "The `loop_continue` function is similar, but instead of breaking out of the loop when it finds the target number, it skips it using the `continue` statement.\n",
        "\n",
        "The `loop_pass` function also takes as input a list of numbers and a target number. It uses a `for` loop to iterate over the numbers in the list and checks if each number is equal to the target number. If it is, it does nothing using the `pass` statement.\n",
        "\n"
      ],
      "metadata": {
        "id": "s4pACxlTWaM8"
      }
    },
    {
      "cell_type": "code",
      "source": [
        "def loop_break(numbers, target):\n",
        "    for number in numbers:\n",
        "        if number == target:\n",
        "            print(f\"Target number {target} found in the list.\")\n",
        "            break\n",
        "    else:\n",
        "        print(f\"Target number {target} not found in the list.\")\n",
        "\n",
        "# Input list and target number from the user\n",
        "numbs = [int(x) for x in input(\"Enter a list of numbers separated by spaces: \").split()]\n",
        "tgt = int(input(\"Enter the target number: \"))\n",
        "loop_break(numbs, tgt)\n",
        "\n",
        "\n",
        "def loop_continue(numbers, target):\n",
        "  for number in numbers:\n",
        "        if number == target:\n",
        "            print(f\"Skipping target number {target}.\")\n",
        "            continue\n",
        "        print(f\"Processing number: {number}\")\n",
        "# Input list and target number from the user\n",
        "numbs = [int(x) for x in input(\"Enter a list of numbers separated by spaces: \").split()]\n",
        "tgt = int(input(\"Enter the target number: \"))\n",
        "loop_continue(numbs, tgt)\n",
        "\n",
        "def loop_pass(numbers, target):\n",
        "    # Complete your code here\n",
        "  for number in numbers:\n",
        "        if number == target:\n",
        "            pass\n",
        "        else:\n",
        "            print(f\"Processing number: {number}\")\n",
        "numbs = [int(x) for x in input(\"Enter a list of numbers separated by spaces: \").split()]\n",
        "tgt = int(input(\"Enter the target number: \"))\n",
        "loop_pass(numbs, tgt)"
      ],
      "metadata": {
        "id": "ITrTDWoKWZt4",
        "colab": {
          "base_uri": "https://localhost:8080/"
        },
        "outputId": "ecad6328-4140-4f67-ce4c-320868928015"
      },
      "execution_count": null,
      "outputs": [
        {
          "output_type": "stream",
          "name": "stdout",
          "text": [
            "Enter a list of numbers separated by spaces: 2 5 8 7 4\n",
            "Enter the target number: 8\n",
            "Target number 8 found in the list.\n",
            "Enter a list of numbers separated by spaces: 2 5 8 7 4\n",
            "Enter the target number: 8\n",
            "Processing number: 2\n",
            "Processing number: 5\n",
            "Skipping target number 8.\n",
            "Processing number: 7\n",
            "Processing number: 4\n",
            "Enter a list of numbers separated by spaces: 2 5 8 7 4\n",
            "Enter the target number: 8\n",
            "Processing number: 2\n",
            "Processing number: 5\n",
            "Processing number: 7\n",
            "Processing number: 4\n"
          ]
        }
      ]
    },
    {
      "cell_type": "markdown",
      "source": [],
      "metadata": {
        "id": "HAOy-M87qwKp"
      }
    },
    {
      "cell_type": "markdown",
      "source": [
        "\n",
        "\n",
        "# Exercise: List Comprehensions\n",
        "\n",
        "1. Write a list comprehension that generates a list of the first ten even numbers.\n",
        "2. Write a list comprehension that generates a list of the first ten odd numbers.\n",
        "3. Write a list comprehension that generates a list of the first ten prime numbers.\n",
        "4. Write a list comprehension that generates a list of the first ten Fibonacci numbers.\n",
        "5. Lucas numbers, which are similar to the Fibonacci numbers but start with 2 and 1 instead of 0 and 1. Write a list comprehension that generates a list of the first ten Lucas numbers.\n",
        "6. Pell numbers, which are defined by the recurrence relation `P(n) = 2*P(n-1) + P(n-2)` with seed values `P(0) = 0` and `P(1) = 1`.  Write a list comprehension that generates a list of the first ten Lucas numbers\n",
        "7. Implement lambda function anywhere in these exercises to make your codes effcient\n",
        "\n",
        "\n",
        "Example:\n",
        "\n",
        "```python\n",
        "squares = [x**2 for x in range(1, 11)]\n",
        "print(squares)  # [1, 4, 9, 16, 25, 36, 49, 64, 81, 100]\n",
        "\n",
        "```\n",
        "\n",
        "\n"
      ],
      "metadata": {
        "id": "yMfTojoDo9_d"
      }
    },
    {
      "cell_type": "code",
      "source": [
        "# write your code here\n",
        "\n",
        "#even\n",
        "evens=[x for x in range(0,19,2) ]\n",
        "print(evens)\n",
        "\n",
        "#odd\n",
        "odds=[x for x in range(1,21,2) ]\n",
        "print(odds)\n",
        "\n",
        "#prime numbers\n",
        "def is_prime(n):\n",
        "    if n <= 1:\n",
        "        return False\n",
        "    if n <= 3:\n",
        "        return True\n",
        "    if n % 2 == 0 or n % 3 == 0:\n",
        "        return False\n",
        "    i = 5\n",
        "    while i * i <= n:\n",
        "        if n % i == 0 or n % (i + 2) == 0:\n",
        "            return False\n",
        "        i += 6\n",
        "    return True\n",
        "\n",
        "prime_numbers = [x for x in range(2, 30) if is_prime(x)][:10]\n",
        "print(prime_numbers)\n",
        "\n",
        "#fibonacci\n",
        "def fibonacci(n):\n",
        "    fib_sequence = [0, 1]\n",
        "    for i in range(2, n):\n",
        "        fib_sequence.append(fib_sequence[i-1] + fib_sequence[i-2])\n",
        "    return fib_sequence\n",
        "\n",
        "first_ten_fibonacci = fibonacci(10)\n",
        "print(first_ten_fibonacci)\n",
        "\n",
        "#lucas\n",
        "def lucas(n):\n",
        "    lucas_sequence = [2, 1]\n",
        "    for i in range(2, n):\n",
        "        lucas_sequence.append(lucas_sequence[i-1] + lucas_sequence[i-2])\n",
        "    return lucas_sequence\n",
        "\n",
        "first_ten_lucas = lucas(10)\n",
        "print(first_ten_lucas)\n",
        "\n",
        "#pell\n",
        "def pell(n):\n",
        "    pell_sequence = [0, 1]\n",
        "    for i in range(2, n):\n",
        "        pell_sequence.append(2 * pell_sequence[i-1] + pell_sequence[i-2])\n",
        "    return pell_sequence\n",
        "\n",
        "first_ten_pell = pell(10)\n",
        "print(first_ten_pell)\n",
        "\n",
        "#lambda\n",
        "def is_prime(n):\n",
        "    if n <= 1:\n",
        "        return False\n",
        "    return all(n % i != 0 for i in range(2, int(n**0.5) + 1))\n",
        "\n",
        "prime_numbers = list(filter(is_prime, range(2, 30)))[:10]\n",
        "print(prime_numbers)\n",
        "\n",
        "pell = lambda n: [0, 1] if n == 2 else pell(n - 1) + [2 * pell(n - 1)[-1] + pell(n - 1)[-2]]\n",
        "first_ten_pell = pell(10)\n",
        "print(first_ten_pell)\n",
        "\n"
      ],
      "metadata": {
        "id": "h54Mtz5Oq3vF",
        "colab": {
          "base_uri": "https://localhost:8080/"
        },
        "outputId": "f56b912b-104c-4279-b5a9-19ade80dc6b9"
      },
      "execution_count": null,
      "outputs": [
        {
          "output_type": "stream",
          "name": "stdout",
          "text": [
            "[0, 2, 4, 6, 8, 10, 12, 14, 16, 18]\n",
            "[1, 3, 5, 7, 9, 11, 13, 15, 17, 19]\n",
            "[2, 3, 5, 7, 11, 13, 17, 19, 23, 29]\n",
            "[0, 1, 1, 2, 3, 5, 8, 13, 21, 34]\n",
            "[2, 1, 3, 4, 7, 11, 18, 29, 47, 76]\n",
            "[0, 1, 2, 5, 12, 29, 70, 169, 408, 985]\n",
            "[2, 3, 5, 7, 11, 13, 17, 19, 23, 29]\n",
            "[0, 1, 2, 5, 12, 29, 70, 169, 408, 985]\n"
          ]
        }
      ]
    },
    {
      "cell_type": "markdown",
      "source": [
        "\n",
        "# Exercise: Multiplication Tables\n",
        "\n",
        "1. Write a function, `print_multiplication_table`, which will allow you to print a multiplication table for a given number.\n",
        "2. The function should take as input a number and the number of rows to print.\n",
        "3. Use a `for` loop with the `range` function to iterate over the rows of the multiplication table.\n",
        "4. For each row, calculate the product of the input number and the current row number, and print the result.\n",
        "\n",
        "Example:\n",
        "\n",
        "```python\n",
        "print_multiplication_table(5, 10)\n",
        "```\n",
        "\n",
        "Define a function `print_multiplication_table` that takes as input a number and the number of rows to print. The function uses a `for` loop with the `range` function to iterate over the rows of the multiplication table. For each row, it calculates the product of the input number and the current row number, and prints the result using an f-string.\n",
        "\n",
        "When we call this function with arguments `5` and `10`, it prints the multiplication table for the number 5 with 10 rows:\n",
        "\n",
        "```\n",
        "5 x 1 = 5\n",
        "5 x 2 = 10\n",
        "5 x 3 = 15\n",
        "5 x 4 = 20\n",
        "5 x 5 = 25\n",
        "5 x 6 = 30\n",
        "5 x 7 = 35\n",
        "5 x 8 = 40\n",
        "5 x 9 = 45\n",
        "5 x 10 = 50\n",
        "```\n"
      ],
      "metadata": {
        "id": "6wHfMaZEvfl8"
      }
    },
    {
      "cell_type": "code",
      "source": [
        "# write your code here:\n",
        "def print_multiplication_table(n, r):\n",
        "    for i in range(1, r + 1):\n",
        "        result = n * i  # Calculate the multiplication result\n",
        "        print(f'{n} x {i} = {result}')\n",
        "\n",
        "a = int(input('Enter the number for the table: '))\n",
        "b = int(input('Enter the number of rows for the table: '))\n",
        "print_multiplication_table(a, b)\n",
        "# print_multiplication_table(5, 10)\n"
      ],
      "metadata": {
        "id": "aVStpnv7vmFu",
        "colab": {
          "base_uri": "https://localhost:8080/"
        },
        "outputId": "f4379f27-2a9c-4d8b-fde3-d42137c60bb5"
      },
      "execution_count": null,
      "outputs": [
        {
          "output_type": "stream",
          "name": "stdout",
          "text": [
            "Enter the number for the table: 5\n",
            "Enter the number of rows for the table: 10\n",
            "5 x 1 = 5\n",
            "5 x 2 = 10\n",
            "5 x 3 = 15\n",
            "5 x 4 = 20\n",
            "5 x 5 = 25\n",
            "5 x 6 = 30\n",
            "5 x 7 = 35\n",
            "5 x 8 = 40\n",
            "5 x 9 = 45\n",
            "5 x 10 = 50\n"
          ]
        }
      ]
    },
    {
      "cell_type": "markdown",
      "source": [
        "# Exercise: Calculator\n",
        "\n",
        "1. Write a function, `calc`, which will allow us to perform some simple calculations.\n",
        "2. Ask the user to enter a math expression in one line (e.g., `'2 + 2'`).\n",
        "3. Use `str.split` to break that input into a list of three elements. (Let's assume that the user enters a valid string, with numbers and an operator between them.)\n",
        "4. If the user entered `+`, print the result of adding the numbers.\n",
        "5. If the user entered `-`, print the result of subtracting the numbers.\n",
        "\n",
        "Example:\n",
        "\n",
        "    calc()\n",
        "\n",
        "    Enter an expression: 10 + 8\n",
        "    10 + 8 = 18    \n",
        "\n",
        "Hints/reminders:\n",
        "1. Any string can be split on whitespace with `s.split()` -- no argument means that we'll split on any whitespace, of any length.\n",
        "2. Remember that the result of `str.split` is a list of strings.\n",
        "3. If you need to turn a string into an integer, use `int`."
      ],
      "metadata": {
        "id": "AHsayHaWfrKF"
      }
    },
    {
      "cell_type": "code",
      "source": [
        "# write your code here:\n",
        "def calc():\n",
        "  a=input('Enter the math expression (e.g., '2 + 2'):  ')\n",
        "  b=a.split()\n",
        "  first_no=float(b[0])\n",
        "  second_no=float(b[2])\n",
        "  operator=b[1]\n",
        "  if operator == '+':\n",
        "        result = first_no + second_no\n",
        "        print(f'Result: {first_no} + {second_no} = {result}')\n",
        "  elif operator == '-':\n",
        "        result = first_no - second_no\n",
        "        print(f'Result: {first_no} - {second_no} = {result}')\n",
        "  else:\n",
        "        print('Invalid operator. Supported operators: + and -')\n",
        "\n",
        "calc()"
      ],
      "metadata": {
        "id": "XpVkMeilfqb-",
        "colab": {
          "base_uri": "https://localhost:8080/"
        },
        "outputId": "4f1ed9d1-a301-4050-c163-0feeb24873f1"
      },
      "execution_count": null,
      "outputs": [
        {
          "output_type": "stream",
          "name": "stdout",
          "text": [
            "Enter the math expression: 2 + 2\n",
            "Result: 2.0 + 2.0 = 4.0\n"
          ]
        }
      ]
    },
    {
      "cell_type": "markdown",
      "source": [
        "\n",
        "\n",
        "# Exercise: Matrix Multiplication\n",
        "\n",
        "1. Write a function, `matrix_multiplication`, which will allow you to multiply two matrices.\n",
        "2. The function should take as input two matrices represented as lists of lists, where each inner list represents a row of the matrix.\n",
        "3. Use nested `for` loops to iterate over the rows and columns of the resulting matrix.\n",
        "4. For each element in the resulting matrix, calculate its value by taking the dot product of the corresponding row in the first matrix and the corresponding column in the second matrix.\n",
        "5. Return the resulting matrix as a list of lists.\n",
        "\n",
        "Example:\n",
        "\n",
        "```python\n",
        "a = [[1, 2], [3, 4]]\n",
        "b = [[5, 6], [7, 8]]\n",
        "print(matrix_multiplication(a, b))  # [[19, 22], [43, 50]]\n",
        "```\n",
        "\n",
        "\n",
        "\n",
        "When we call this function with two matrices `a` and `b`, it returns their product as a new matrix:\n",
        "\n",
        "```\n",
        "[[1, 2],   [[5, 6],   [[19, 22],\n",
        " [3, 4]] *  [7, 8]] =  [43, 50]]\n",
        "```\n",
        "\n"
      ],
      "metadata": {
        "id": "DhNm-MeayZ-7"
      }
    },
    {
      "cell_type": "code",
      "source": [
        "def matrix_multiplication(matrix_1, matrix_2):\n",
        "  if b!=c:\n",
        "    print(\"Multiplication not possible\")\n",
        "  else:\n",
        "    result = [[0 for _ in range(d)] for _ in range(a)]\n",
        "\n",
        "    for i in range(a):\n",
        "        for j in range(d):\n",
        "            dot_product = 0\n",
        "            for k in range(b):\n",
        "                dot_product += matrix_1[i][k] * matrix_2[k][j]\n",
        "            result[i][j] = dot_product\n",
        "\n",
        "    return result\n",
        "\n",
        "# write your code here:\n",
        "\n",
        "a=int(input('Enter the number of rows: '))\n",
        "b=int(input('Enter the number of columns: '))\n",
        "matrix_1=[]\n",
        "for i in (1,a+1):\n",
        "  row_i=[]\n",
        "  for j in range(1, b+1):\n",
        "    ele = int(input(f'Enter the element:'))\n",
        "    # adding the element\n",
        "    row_i.append(ele)\n",
        "  print(f'row: {row_i}')\n",
        "  matrix_1.append(row_i)\n",
        "\n",
        "print(matrix_1)\n",
        "\n",
        "c=int(input('Enter the number of rows: '))\n",
        "d=int(input('Enter the number of columns: '))\n",
        "matrix_2=[]\n",
        "for i in (1,c+1):\n",
        "  row_i=[]\n",
        "  for j in range(1, d+1):\n",
        "    ele = int(input(f'Enter the element:'))\n",
        "    # adding the element\n",
        "    row_i.append(ele)\n",
        "  print(f'row: {row_i}')\n",
        "  matrix_2.append(row_i)\n",
        "\n",
        "print(matrix_2)\n",
        "\n",
        "matrix_multiplication(matrix_1,matrix_2)"
      ],
      "metadata": {
        "id": "NtzETv-nyg1P",
        "colab": {
          "base_uri": "https://localhost:8080/"
        },
        "outputId": "4ec9a391-b922-430a-a453-97ef628c01d8"
      },
      "execution_count": null,
      "outputs": [
        {
          "output_type": "stream",
          "name": "stdout",
          "text": [
            "Enter the number of rows: 2\n",
            "Enter the number of columns: 2\n",
            "Enter the element:1\n",
            "Enter the element:2\n",
            "row: [1, 2]\n",
            "Enter the element:3\n",
            "Enter the element:4\n",
            "row: [3, 4]\n",
            "[[1, 2], [3, 4]]\n",
            "Enter the number of rows: 2\n",
            "Enter the number of columns: 2\n",
            "Enter the element:5\n",
            "Enter the element:6\n",
            "row: [5, 6]\n",
            "Enter the element:7\n",
            "Enter the element:8\n",
            "row: [7, 8]\n",
            "[[5, 6], [7, 8]]\n"
          ]
        },
        {
          "output_type": "execute_result",
          "data": {
            "text/plain": [
              "[[19, 22], [43, 50]]"
            ]
          },
          "metadata": {},
          "execution_count": 88
        }
      ]
    },
    {
      "cell_type": "markdown",
      "source": [
        "# Exercise: Invert Module\n",
        "Open the text editor on your local machine and copy the following code into the editor and save it as invert_string.py\n",
        "\n",
        "```python\n",
        "# invert_string.py\n",
        "\n",
        "def invert(s):\n",
        "    if not isinstance(s, str):\n",
        "        raise TypeError('Input must be a string')\n",
        "    return s[::-1]\n",
        "```"
      ],
      "metadata": {
        "id": "FTadvipZeVj3"
      }
    },
    {
      "cell_type": "markdown",
      "source": [
        "### Run the code block below and upload the file here.\n",
        "\n"
      ],
      "metadata": {
        "id": "8kAUmmGBjPLm"
      }
    },
    {
      "cell_type": "code",
      "source": [
        "from google.colab import files\n",
        "files.upload()\n"
      ],
      "metadata": {
        "id": "TRxvfTdmjWrm",
        "colab": {
          "base_uri": "https://localhost:8080/",
          "height": 90
        },
        "outputId": "4cac9afd-4135-485a-834f-97feb13cc111"
      },
      "execution_count": null,
      "outputs": [
        {
          "output_type": "display_data",
          "data": {
            "text/plain": [
              "<IPython.core.display.HTML object>"
            ],
            "text/html": [
              "\n",
              "     <input type=\"file\" id=\"files-f9c9dc60-9de9-42ac-b377-cf212a07b2c5\" name=\"files[]\" multiple disabled\n",
              "        style=\"border:none\" />\n",
              "     <output id=\"result-f9c9dc60-9de9-42ac-b377-cf212a07b2c5\">\n",
              "      Upload widget is only available when the cell has been executed in the\n",
              "      current browser session. Please rerun this cell to enable.\n",
              "      </output>\n",
              "      <script>// Copyright 2017 Google LLC\n",
              "//\n",
              "// Licensed under the Apache License, Version 2.0 (the \"License\");\n",
              "// you may not use this file except in compliance with the License.\n",
              "// You may obtain a copy of the License at\n",
              "//\n",
              "//      http://www.apache.org/licenses/LICENSE-2.0\n",
              "//\n",
              "// Unless required by applicable law or agreed to in writing, software\n",
              "// distributed under the License is distributed on an \"AS IS\" BASIS,\n",
              "// WITHOUT WARRANTIES OR CONDITIONS OF ANY KIND, either express or implied.\n",
              "// See the License for the specific language governing permissions and\n",
              "// limitations under the License.\n",
              "\n",
              "/**\n",
              " * @fileoverview Helpers for google.colab Python module.\n",
              " */\n",
              "(function(scope) {\n",
              "function span(text, styleAttributes = {}) {\n",
              "  const element = document.createElement('span');\n",
              "  element.textContent = text;\n",
              "  for (const key of Object.keys(styleAttributes)) {\n",
              "    element.style[key] = styleAttributes[key];\n",
              "  }\n",
              "  return element;\n",
              "}\n",
              "\n",
              "// Max number of bytes which will be uploaded at a time.\n",
              "const MAX_PAYLOAD_SIZE = 100 * 1024;\n",
              "\n",
              "function _uploadFiles(inputId, outputId) {\n",
              "  const steps = uploadFilesStep(inputId, outputId);\n",
              "  const outputElement = document.getElementById(outputId);\n",
              "  // Cache steps on the outputElement to make it available for the next call\n",
              "  // to uploadFilesContinue from Python.\n",
              "  outputElement.steps = steps;\n",
              "\n",
              "  return _uploadFilesContinue(outputId);\n",
              "}\n",
              "\n",
              "// This is roughly an async generator (not supported in the browser yet),\n",
              "// where there are multiple asynchronous steps and the Python side is going\n",
              "// to poll for completion of each step.\n",
              "// This uses a Promise to block the python side on completion of each step,\n",
              "// then passes the result of the previous step as the input to the next step.\n",
              "function _uploadFilesContinue(outputId) {\n",
              "  const outputElement = document.getElementById(outputId);\n",
              "  const steps = outputElement.steps;\n",
              "\n",
              "  const next = steps.next(outputElement.lastPromiseValue);\n",
              "  return Promise.resolve(next.value.promise).then((value) => {\n",
              "    // Cache the last promise value to make it available to the next\n",
              "    // step of the generator.\n",
              "    outputElement.lastPromiseValue = value;\n",
              "    return next.value.response;\n",
              "  });\n",
              "}\n",
              "\n",
              "/**\n",
              " * Generator function which is called between each async step of the upload\n",
              " * process.\n",
              " * @param {string} inputId Element ID of the input file picker element.\n",
              " * @param {string} outputId Element ID of the output display.\n",
              " * @return {!Iterable<!Object>} Iterable of next steps.\n",
              " */\n",
              "function* uploadFilesStep(inputId, outputId) {\n",
              "  const inputElement = document.getElementById(inputId);\n",
              "  inputElement.disabled = false;\n",
              "\n",
              "  const outputElement = document.getElementById(outputId);\n",
              "  outputElement.innerHTML = '';\n",
              "\n",
              "  const pickedPromise = new Promise((resolve) => {\n",
              "    inputElement.addEventListener('change', (e) => {\n",
              "      resolve(e.target.files);\n",
              "    });\n",
              "  });\n",
              "\n",
              "  const cancel = document.createElement('button');\n",
              "  inputElement.parentElement.appendChild(cancel);\n",
              "  cancel.textContent = 'Cancel upload';\n",
              "  const cancelPromise = new Promise((resolve) => {\n",
              "    cancel.onclick = () => {\n",
              "      resolve(null);\n",
              "    };\n",
              "  });\n",
              "\n",
              "  // Wait for the user to pick the files.\n",
              "  const files = yield {\n",
              "    promise: Promise.race([pickedPromise, cancelPromise]),\n",
              "    response: {\n",
              "      action: 'starting',\n",
              "    }\n",
              "  };\n",
              "\n",
              "  cancel.remove();\n",
              "\n",
              "  // Disable the input element since further picks are not allowed.\n",
              "  inputElement.disabled = true;\n",
              "\n",
              "  if (!files) {\n",
              "    return {\n",
              "      response: {\n",
              "        action: 'complete',\n",
              "      }\n",
              "    };\n",
              "  }\n",
              "\n",
              "  for (const file of files) {\n",
              "    const li = document.createElement('li');\n",
              "    li.append(span(file.name, {fontWeight: 'bold'}));\n",
              "    li.append(span(\n",
              "        `(${file.type || 'n/a'}) - ${file.size} bytes, ` +\n",
              "        `last modified: ${\n",
              "            file.lastModifiedDate ? file.lastModifiedDate.toLocaleDateString() :\n",
              "                                    'n/a'} - `));\n",
              "    const percent = span('0% done');\n",
              "    li.appendChild(percent);\n",
              "\n",
              "    outputElement.appendChild(li);\n",
              "\n",
              "    const fileDataPromise = new Promise((resolve) => {\n",
              "      const reader = new FileReader();\n",
              "      reader.onload = (e) => {\n",
              "        resolve(e.target.result);\n",
              "      };\n",
              "      reader.readAsArrayBuffer(file);\n",
              "    });\n",
              "    // Wait for the data to be ready.\n",
              "    let fileData = yield {\n",
              "      promise: fileDataPromise,\n",
              "      response: {\n",
              "        action: 'continue',\n",
              "      }\n",
              "    };\n",
              "\n",
              "    // Use a chunked sending to avoid message size limits. See b/62115660.\n",
              "    let position = 0;\n",
              "    do {\n",
              "      const length = Math.min(fileData.byteLength - position, MAX_PAYLOAD_SIZE);\n",
              "      const chunk = new Uint8Array(fileData, position, length);\n",
              "      position += length;\n",
              "\n",
              "      const base64 = btoa(String.fromCharCode.apply(null, chunk));\n",
              "      yield {\n",
              "        response: {\n",
              "          action: 'append',\n",
              "          file: file.name,\n",
              "          data: base64,\n",
              "        },\n",
              "      };\n",
              "\n",
              "      let percentDone = fileData.byteLength === 0 ?\n",
              "          100 :\n",
              "          Math.round((position / fileData.byteLength) * 100);\n",
              "      percent.textContent = `${percentDone}% done`;\n",
              "\n",
              "    } while (position < fileData.byteLength);\n",
              "  }\n",
              "\n",
              "  // All done.\n",
              "  yield {\n",
              "    response: {\n",
              "      action: 'complete',\n",
              "    }\n",
              "  };\n",
              "}\n",
              "\n",
              "scope.google = scope.google || {};\n",
              "scope.google.colab = scope.google.colab || {};\n",
              "scope.google.colab._files = {\n",
              "  _uploadFiles,\n",
              "  _uploadFilesContinue,\n",
              "};\n",
              "})(self);\n",
              "</script> "
            ]
          },
          "metadata": {}
        },
        {
          "output_type": "stream",
          "name": "stdout",
          "text": [
            "Saving invert_string.py to invert_string.py\n"
          ]
        },
        {
          "output_type": "execute_result",
          "data": {
            "text/plain": [
              "{'invert_string.py': b\"def invert(s):\\n    if not isinstance(s, str):\\n        raise TypeError('Input must be a string')\\n    return s[::-1]\\n\"}"
            ]
          },
          "metadata": {},
          "execution_count": 63
        }
      ]
    },
    {
      "cell_type": "markdown",
      "source": [
        "### Now import the module and test it"
      ],
      "metadata": {
        "id": "DcI-HvCQjXnL"
      }
    },
    {
      "cell_type": "code",
      "source": [
        "from invert_string import invert\n",
        "\n",
        "\n",
        "print(invert('hello'))  # 'olleh'\n",
        "print(invert(123))      # TypeError: Input must be a string"
      ],
      "metadata": {
        "id": "ojsPCHIjjaCU",
        "colab": {
          "base_uri": "https://localhost:8080/",
          "height": 331
        },
        "outputId": "4056f815-4c22-4273-e150-e5f3a14b511c"
      },
      "execution_count": null,
      "outputs": [
        {
          "output_type": "stream",
          "name": "stdout",
          "text": [
            "olleh\n"
          ]
        },
        {
          "output_type": "error",
          "ename": "TypeError",
          "evalue": "ignored",
          "traceback": [
            "\u001b[0;31m---------------------------------------------------------------------------\u001b[0m",
            "\u001b[0;31mTypeError\u001b[0m                                 Traceback (most recent call last)",
            "\u001b[0;32m<ipython-input-64-acb1ae19d8a7>\u001b[0m in \u001b[0;36m<cell line: 5>\u001b[0;34m()\u001b[0m\n\u001b[1;32m      3\u001b[0m \u001b[0;34m\u001b[0m\u001b[0m\n\u001b[1;32m      4\u001b[0m \u001b[0mprint\u001b[0m\u001b[0;34m(\u001b[0m\u001b[0minvert\u001b[0m\u001b[0;34m(\u001b[0m\u001b[0;34m'hello'\u001b[0m\u001b[0;34m)\u001b[0m\u001b[0;34m)\u001b[0m  \u001b[0;31m# 'olleh'\u001b[0m\u001b[0;34m\u001b[0m\u001b[0;34m\u001b[0m\u001b[0m\n\u001b[0;32m----> 5\u001b[0;31m \u001b[0mprint\u001b[0m\u001b[0;34m(\u001b[0m\u001b[0minvert\u001b[0m\u001b[0;34m(\u001b[0m\u001b[0;36m123\u001b[0m\u001b[0;34m)\u001b[0m\u001b[0;34m)\u001b[0m      \u001b[0;31m# TypeError: Input must be a string\u001b[0m\u001b[0;34m\u001b[0m\u001b[0;34m\u001b[0m\u001b[0m\n\u001b[0m",
            "\u001b[0;32m/content/invert_string.py\u001b[0m in \u001b[0;36minvert\u001b[0;34m(s)\u001b[0m\n\u001b[1;32m      1\u001b[0m \u001b[0;32mdef\u001b[0m \u001b[0minvert\u001b[0m\u001b[0;34m(\u001b[0m\u001b[0ms\u001b[0m\u001b[0;34m)\u001b[0m\u001b[0;34m:\u001b[0m\u001b[0;34m\u001b[0m\u001b[0;34m\u001b[0m\u001b[0m\n\u001b[1;32m      2\u001b[0m     \u001b[0;32mif\u001b[0m \u001b[0;32mnot\u001b[0m \u001b[0misinstance\u001b[0m\u001b[0;34m(\u001b[0m\u001b[0ms\u001b[0m\u001b[0;34m,\u001b[0m \u001b[0mstr\u001b[0m\u001b[0;34m)\u001b[0m\u001b[0;34m:\u001b[0m\u001b[0;34m\u001b[0m\u001b[0;34m\u001b[0m\u001b[0m\n\u001b[0;32m----> 3\u001b[0;31m         \u001b[0;32mraise\u001b[0m \u001b[0mTypeError\u001b[0m\u001b[0;34m(\u001b[0m\u001b[0;34m'Input must be a string'\u001b[0m\u001b[0;34m)\u001b[0m\u001b[0;34m\u001b[0m\u001b[0;34m\u001b[0m\u001b[0m\n\u001b[0m\u001b[1;32m      4\u001b[0m     \u001b[0;32mreturn\u001b[0m \u001b[0ms\u001b[0m\u001b[0;34m[\u001b[0m\u001b[0;34m:\u001b[0m\u001b[0;34m:\u001b[0m\u001b[0;34m-\u001b[0m\u001b[0;36m1\u001b[0m\u001b[0;34m]\u001b[0m\u001b[0;34m\u001b[0m\u001b[0;34m\u001b[0m\u001b[0m\n",
            "\u001b[0;31mTypeError\u001b[0m: Input must be a string"
          ]
        }
      ]
    },
    {
      "cell_type": "markdown",
      "source": [
        "\n",
        "\n",
        "1.   Define function `is_palindrome` that takes as input a string and returns `True` if it is a palindrome (i.e., if it reads the same backward as forward) and `False` otherwise.\n",
        "** Hint- It uses the `invert` function from the `invert_string` module to check if the input string is equal to its inverted version.\n",
        "\n",
        "2.   Input ten strings from the user, and check using the `is_palindrome` function. If the input string is not a palindrome, we skip it, and do not add it to the list of strings.\n",
        "\n",
        "3.  Print the list of palindromes\n",
        "\n",
        "Sample output:\n",
        "\n",
        "```\n",
        "Enter string 1: racecar\n",
        "Enter string 2: level\n",
        "Enter string 3: rotor\n",
        "Enter string 4: civic\n",
        "Enter string 5: kayak\n",
        "Enter string 6: madam\n",
        "Enter string 7: refer\n",
        "Enter string 8: stats\n",
        "Enter string 9: solos\n",
        "Enter string 10: tenet\n",
        "['racecar', 'level', 'rotor', 'civic', 'kayak', 'madam', 'refer', 'stats', 'solos', 'tenet']\n",
        "```\n",
        "\n"
      ],
      "metadata": {
        "id": "vHminEv_j_qh"
      }
    },
    {
      "cell_type": "code",
      "source": [
        "# Write your code here\n",
        "def is_palindrome(s):\n",
        "    return s == invert(s)\n",
        "\n",
        "palindrome_list = []\n",
        "\n",
        "for i in range(1,11):\n",
        "    user_input = input(f\"Enter a string {i} : \")\n",
        "    if is_palindrome(user_input):\n",
        "        palindrome_list.append(user_input)\n",
        "\n",
        "print(\"Palindromes entered:\")\n",
        "print(palindrome_list)\n",
        "\n"
      ],
      "metadata": {
        "id": "C_CiZYFbrRs_",
        "colab": {
          "base_uri": "https://localhost:8080/"
        },
        "outputId": "75ad12f6-ef0c-419d-94e7-36abbfffd336"
      },
      "execution_count": null,
      "outputs": [
        {
          "output_type": "stream",
          "name": "stdout",
          "text": [
            "Enter a string 1 : refer\n",
            "Enter a string 2 : aryamaan\n",
            "Enter a string 3 : sugandh\n",
            "Enter a string 4 : racecar\n",
            "Enter a string 5 : madam\n",
            "Enter a string 6 : apple\n",
            "Enter a string 7 : tenet\n",
            "Enter a string 8 : stats\n",
            "Enter a string 9 : rotoe\n",
            "Enter a string 10 : civic\n",
            "Palindromes entered:\n",
            "['refer', 'racecar', 'madam', 'tenet', 'stats', 'civic']\n"
          ]
        }
      ]
    },
    {
      "cell_type": "markdown",
      "metadata": {
        "id": "860c961e"
      },
      "source": [
        "# Exercise: Fibonacci sequence\n",
        "\n",
        "You work in an IT firm, and your colleague has realized that being able to quickly compute elements of the Fibonacci sequence will reduce the time taken to execute the testing suite on one of your internal applications. You will use an iterative approach to create a fibonacci_iterative function that returns the nth value in the Fibonacci sequence.\n",
        "\n",
        "Define a fibonacci_iterative function that takes a single positional argument representing which number term in the sequence you want to return."
      ]
    },
    {
      "cell_type": "markdown",
      "metadata": {
        "id": "3e77dc5c"
      },
      "source": [
        "The Fibonacci Sequence is the series of numbers:\n",
        "\n",
        "0, 1, 1, 2, 3, 5, 8, 13, 21, 34, ...\n",
        "\n",
        "The next number is found by adding up the two numbers before it:\n",
        "\n",
        "- the 2 is found by adding the two numbers before it (1+1),\n",
        "- the 3 is found by adding the two numbers before it (1+2),\n",
        "- the 5 is (2+3),\n",
        "- and so on!"
      ]
    },
    {
      "cell_type": "code",
      "source": [
        "# write your code here:\n",
        "def fibonacci_iterative(n):\n",
        "  number_1=0\n",
        "  number_2=1\n",
        "  if n==1:\n",
        "    return number_1\n",
        "  elif n==2:\n",
        "    return number_2\n",
        "  else:\n",
        "    for i in range(n-2):\n",
        "      number_3 = number_1 + number_2\n",
        "      number_1, number_2 = number_2, number_3\n",
        "    return number_3\n",
        "\n",
        "number = int(input(\"Enter the term number: \"))\n",
        "result = fibonacci_iterative(number)\n",
        "print(f\"The {number}th term in the Fibonacci sequence is: {result}\")\n",
        "\n",
        "# print(fibonacci(int(n)))"
      ],
      "metadata": {
        "id": "PtrqxqlLvGGx",
        "colab": {
          "base_uri": "https://localhost:8080/"
        },
        "outputId": "34734555-ca1f-4544-9c91-6d2b4631d900"
      },
      "execution_count": null,
      "outputs": [
        {
          "output_type": "stream",
          "name": "stdout",
          "text": [
            "Enter the term number: 3\n",
            "The 3th term in the Fibonacci sequence is: 1\n"
          ]
        }
      ]
    },
    {
      "cell_type": "markdown",
      "source": [
        "\n",
        "\n",
        "# Exercise: Character Frequency\n",
        "\n",
        "1. Write a function, `vowel_frequency`, which will allow you to find the frequency of vowels in a text snippet.\n",
        "2. The function should take as input a text snippet and return a dictionary with the frequency of each vowel.\n",
        "3. Use a `for` loop to iterate over the characters in the text snippet.\n",
        "4. If a character is a vowel, increment its count in the dictionary.\n",
        "5. Write another function, `char_frequency`, which will allow you to find the frequency of an arbitrary character in a text snippet.\n",
        "6. The function should take as input a text snippet and a character, and return the frequency of that character in the text snippet.\n",
        "7. Use a `for` loop to iterate over the characters in the text snippet.\n",
        "8. If a character is equal to the input character, increment its count.\n",
        "\n",
        "Example:\n",
        "\n",
        "```python\n",
        "text = 'This is an example text'\n",
        "print(vowel_frequency(text))  # {'a': 2, 'e': 3, 'i': 2, 'o': 0, 'u': 0}\n",
        "print(char_frequency(text, 'x'))  # 1\n",
        "```\n",
        "\n",
        "Define two functions: `vowel_frequency` and `char_frequency`. The `vowel_frequency` function takes as input a text snippet and returns a dictionary with the frequency of each vowel. It uses a `for` loop to iterate over the characters in the text snippet and increments the count of each vowel in the dictionary.\n",
        "\n",
        "The `char_frequency` function takes as input a text snippet and a character, and returns the frequency of that character in the text snippet. It uses a `for` loop to iterate over the characters in the text snippet and increments the count of the input character.\n",
        "\n",
        "Write two separate modules for `vowel_frequency` and `char_frequency`.\n",
        "\n",
        "Pass the string (user input) in another module (your main module). When the user has enetered the text in small caps, change all the text to large caps as the first thing you want this code to do. Then only the functions in   `vowel_frequency` should be implememnted and return a dictionary with the frequency of each vowel. Implement `\"_ _name__\"` in your modules to make this work.\n",
        "```python\n",
        "# vowel_frequency.py\n",
        "def vowel_frequency(text):\n",
        "\n",
        "\n",
        "\n",
        "# char_frequency.py\n",
        "def char_frequency(text, character):\n",
        "\n",
        "\n",
        "\n",
        "# main.py\n",
        "import vowel_frequency\n",
        "import char_frequency\n",
        "\n",
        "if __name__ == '__main__':\n",
        "    text = input('Enter text: ').upper()\n",
        "    print(vowel_frequency.vowel_frequency(text))\n",
        "```\n",
        "\n",
        "Show the results of Running the script directly(On local Command line)  vs importing the module here uisng procedure form Invert Module.\n"
      ],
      "metadata": {
        "id": "9CiAHCNouBtX"
      }
    },
    {
      "cell_type": "code",
      "source": [
        "# write your code here:\n",
        "def vowel_frequency(text):\n",
        "    vowels = \"AEIOU\"\n",
        "    frequency = {vowel: 0 for vowel in vowels}\n",
        "\n",
        "    for char in text:\n",
        "        if char in frequency:\n",
        "            frequency[char] += 1\n",
        "\n",
        "    return frequency\n",
        "\n",
        "def char_frequency(text, target_char):\n",
        "    frequency = 0\n",
        "\n",
        "    for char in text:\n",
        "        if char == target_char:\n",
        "            frequency += 1\n",
        "\n",
        "    return frequency\n",
        "\n",
        "#text = 'This is an example text'\n",
        "# print(vowel_frequency(text))  # {'a': 2, 'e': 3, 'i': 2, 'o': 0, 'u': 0}\n",
        "# print(char_frequency(text, 'x'))  # 1\n",
        "\n",
        "\n",
        "\n",
        "\n"
      ],
      "metadata": {
        "id": "TFzFs1tFuBKv"
      },
      "execution_count": null,
      "outputs": []
    },
    {
      "cell_type": "code",
      "source": [
        "text = input(\"Enter a text snippet: \").upper()\n",
        "character = input(\"Enter a character to find its frequency: \").upper()\n",
        "\n",
        "vowel_freq = vowel_frequency(text)\n",
        "char_freq = char_frequency(text, character)\n",
        "\n",
        "print(\"Vowel frequency:\", vowel_freq)\n",
        "print(f\"Frequency of '{character}': {char_freq}\")"
      ],
      "metadata": {
        "colab": {
          "base_uri": "https://localhost:8080/"
        },
        "id": "N8XpMIOt6bDB",
        "outputId": "f3048a83-6804-46c8-a26a-61316f5b4506"
      },
      "execution_count": null,
      "outputs": [
        {
          "output_type": "stream",
          "name": "stdout",
          "text": [
            "Enter a text snippet: Hello\n",
            "Enter a character to find its frequency: h\n",
            "Vowel frequency: {'A': 0, 'E': 1, 'I': 0, 'O': 1, 'U': 0}\n",
            "Frequency of 'H': 1\n"
          ]
        }
      ]
    },
    {
      "cell_type": "code",
      "source": [
        "from google.colab import files\n",
        "files.upload()"
      ],
      "metadata": {
        "id": "k5dxOOZe11xv",
        "colab": {
          "base_uri": "https://localhost:8080/",
          "height": 177
        },
        "outputId": "4ab22833-8dde-4320-a40f-f8232a454206"
      },
      "execution_count": null,
      "outputs": [
        {
          "output_type": "display_data",
          "data": {
            "text/plain": [
              "<IPython.core.display.HTML object>"
            ],
            "text/html": [
              "\n",
              "     <input type=\"file\" id=\"files-46ee2ea4-ab29-4abe-b3e1-06dee434221d\" name=\"files[]\" multiple disabled\n",
              "        style=\"border:none\" />\n",
              "     <output id=\"result-46ee2ea4-ab29-4abe-b3e1-06dee434221d\">\n",
              "      Upload widget is only available when the cell has been executed in the\n",
              "      current browser session. Please rerun this cell to enable.\n",
              "      </output>\n",
              "      <script>// Copyright 2017 Google LLC\n",
              "//\n",
              "// Licensed under the Apache License, Version 2.0 (the \"License\");\n",
              "// you may not use this file except in compliance with the License.\n",
              "// You may obtain a copy of the License at\n",
              "//\n",
              "//      http://www.apache.org/licenses/LICENSE-2.0\n",
              "//\n",
              "// Unless required by applicable law or agreed to in writing, software\n",
              "// distributed under the License is distributed on an \"AS IS\" BASIS,\n",
              "// WITHOUT WARRANTIES OR CONDITIONS OF ANY KIND, either express or implied.\n",
              "// See the License for the specific language governing permissions and\n",
              "// limitations under the License.\n",
              "\n",
              "/**\n",
              " * @fileoverview Helpers for google.colab Python module.\n",
              " */\n",
              "(function(scope) {\n",
              "function span(text, styleAttributes = {}) {\n",
              "  const element = document.createElement('span');\n",
              "  element.textContent = text;\n",
              "  for (const key of Object.keys(styleAttributes)) {\n",
              "    element.style[key] = styleAttributes[key];\n",
              "  }\n",
              "  return element;\n",
              "}\n",
              "\n",
              "// Max number of bytes which will be uploaded at a time.\n",
              "const MAX_PAYLOAD_SIZE = 100 * 1024;\n",
              "\n",
              "function _uploadFiles(inputId, outputId) {\n",
              "  const steps = uploadFilesStep(inputId, outputId);\n",
              "  const outputElement = document.getElementById(outputId);\n",
              "  // Cache steps on the outputElement to make it available for the next call\n",
              "  // to uploadFilesContinue from Python.\n",
              "  outputElement.steps = steps;\n",
              "\n",
              "  return _uploadFilesContinue(outputId);\n",
              "}\n",
              "\n",
              "// This is roughly an async generator (not supported in the browser yet),\n",
              "// where there are multiple asynchronous steps and the Python side is going\n",
              "// to poll for completion of each step.\n",
              "// This uses a Promise to block the python side on completion of each step,\n",
              "// then passes the result of the previous step as the input to the next step.\n",
              "function _uploadFilesContinue(outputId) {\n",
              "  const outputElement = document.getElementById(outputId);\n",
              "  const steps = outputElement.steps;\n",
              "\n",
              "  const next = steps.next(outputElement.lastPromiseValue);\n",
              "  return Promise.resolve(next.value.promise).then((value) => {\n",
              "    // Cache the last promise value to make it available to the next\n",
              "    // step of the generator.\n",
              "    outputElement.lastPromiseValue = value;\n",
              "    return next.value.response;\n",
              "  });\n",
              "}\n",
              "\n",
              "/**\n",
              " * Generator function which is called between each async step of the upload\n",
              " * process.\n",
              " * @param {string} inputId Element ID of the input file picker element.\n",
              " * @param {string} outputId Element ID of the output display.\n",
              " * @return {!Iterable<!Object>} Iterable of next steps.\n",
              " */\n",
              "function* uploadFilesStep(inputId, outputId) {\n",
              "  const inputElement = document.getElementById(inputId);\n",
              "  inputElement.disabled = false;\n",
              "\n",
              "  const outputElement = document.getElementById(outputId);\n",
              "  outputElement.innerHTML = '';\n",
              "\n",
              "  const pickedPromise = new Promise((resolve) => {\n",
              "    inputElement.addEventListener('change', (e) => {\n",
              "      resolve(e.target.files);\n",
              "    });\n",
              "  });\n",
              "\n",
              "  const cancel = document.createElement('button');\n",
              "  inputElement.parentElement.appendChild(cancel);\n",
              "  cancel.textContent = 'Cancel upload';\n",
              "  const cancelPromise = new Promise((resolve) => {\n",
              "    cancel.onclick = () => {\n",
              "      resolve(null);\n",
              "    };\n",
              "  });\n",
              "\n",
              "  // Wait for the user to pick the files.\n",
              "  const files = yield {\n",
              "    promise: Promise.race([pickedPromise, cancelPromise]),\n",
              "    response: {\n",
              "      action: 'starting',\n",
              "    }\n",
              "  };\n",
              "\n",
              "  cancel.remove();\n",
              "\n",
              "  // Disable the input element since further picks are not allowed.\n",
              "  inputElement.disabled = true;\n",
              "\n",
              "  if (!files) {\n",
              "    return {\n",
              "      response: {\n",
              "        action: 'complete',\n",
              "      }\n",
              "    };\n",
              "  }\n",
              "\n",
              "  for (const file of files) {\n",
              "    const li = document.createElement('li');\n",
              "    li.append(span(file.name, {fontWeight: 'bold'}));\n",
              "    li.append(span(\n",
              "        `(${file.type || 'n/a'}) - ${file.size} bytes, ` +\n",
              "        `last modified: ${\n",
              "            file.lastModifiedDate ? file.lastModifiedDate.toLocaleDateString() :\n",
              "                                    'n/a'} - `));\n",
              "    const percent = span('0% done');\n",
              "    li.appendChild(percent);\n",
              "\n",
              "    outputElement.appendChild(li);\n",
              "\n",
              "    const fileDataPromise = new Promise((resolve) => {\n",
              "      const reader = new FileReader();\n",
              "      reader.onload = (e) => {\n",
              "        resolve(e.target.result);\n",
              "      };\n",
              "      reader.readAsArrayBuffer(file);\n",
              "    });\n",
              "    // Wait for the data to be ready.\n",
              "    let fileData = yield {\n",
              "      promise: fileDataPromise,\n",
              "      response: {\n",
              "        action: 'continue',\n",
              "      }\n",
              "    };\n",
              "\n",
              "    // Use a chunked sending to avoid message size limits. See b/62115660.\n",
              "    let position = 0;\n",
              "    do {\n",
              "      const length = Math.min(fileData.byteLength - position, MAX_PAYLOAD_SIZE);\n",
              "      const chunk = new Uint8Array(fileData, position, length);\n",
              "      position += length;\n",
              "\n",
              "      const base64 = btoa(String.fromCharCode.apply(null, chunk));\n",
              "      yield {\n",
              "        response: {\n",
              "          action: 'append',\n",
              "          file: file.name,\n",
              "          data: base64,\n",
              "        },\n",
              "      };\n",
              "\n",
              "      let percentDone = fileData.byteLength === 0 ?\n",
              "          100 :\n",
              "          Math.round((position / fileData.byteLength) * 100);\n",
              "      percent.textContent = `${percentDone}% done`;\n",
              "\n",
              "    } while (position < fileData.byteLength);\n",
              "  }\n",
              "\n",
              "  // All done.\n",
              "  yield {\n",
              "    response: {\n",
              "      action: 'complete',\n",
              "    }\n",
              "  };\n",
              "}\n",
              "\n",
              "scope.google = scope.google || {};\n",
              "scope.google.colab = scope.google.colab || {};\n",
              "scope.google.colab._files = {\n",
              "  _uploadFiles,\n",
              "  _uploadFilesContinue,\n",
              "};\n",
              "})(self);\n",
              "</script> "
            ]
          },
          "metadata": {}
        },
        {
          "output_type": "stream",
          "name": "stdout",
          "text": [
            "Saving char_frequency.py to char_frequency.py\n",
            "Saving vowel_frequency.py to vowel_frequency.py\n"
          ]
        },
        {
          "output_type": "execute_result",
          "data": {
            "text/plain": [
              "{'char_frequency.py': b'def char_frequency(text, character):\\r\\n    frequency = 0\\r\\n\\r\\n    for char in text:\\r\\n        if char == character:\\r\\n            frequency += 1\\r\\n\\r\\n    return frequency',\n",
              " 'vowel_frequency.py': b'def vowel_frequency(text):\\n    vowels = \"aeiouAEIOU\"\\n    frequency = {vowel: 0 for vowel in vowels}\\n\\n    for char in text:\\n        if char in frequency:\\n            frequency[char] += 1\\n\\n    return frequency\\n'}"
            ]
          },
          "metadata": {},
          "execution_count": 1
        }
      ]
    },
    {
      "cell_type": "code",
      "source": [
        "from vowel_frequency import vowel_frequency\n",
        "from char_frequency import char_frequency\n",
        "\n",
        "text = input('Enter a sentence: ')\n",
        "freq_char = input('Enter character for which you want frequency: ')\n",
        "print('Vowel Frequency: ',vowel_frequency(text))  # {'a': 2, 'e': 3, 'i': 2, 'o': 0, 'u': 0}\n",
        "print('Character Frequency: ',char_frequency(text, freq_char))  # 2"
      ],
      "metadata": {
        "id": "rin5PSWw-FLh"
      },
      "execution_count": null,
      "outputs": []
    },
    {
      "cell_type": "markdown",
      "source": [
        "\n",
        "\n",
        "# Exercise: Mario's Triangles\n",
        "\n",
        "1. Write a function, `mario`, which will allow us to print Mario's triangles.\n",
        "2. Ask the user to enter a string in one line (e.g., `'abc'`).\n",
        "3. Use the length of the string to determine the height of the triangle.\n",
        "4. For each row of the triangle, print spaces followed by characters from the input string. The number of spaces should decrease by 1 for each row, while the number of characters should increase by 1 for each row.\n",
        "5. If the length of the input string is even, add an asterisk (`*`) at the top of the pyramid.\n",
        "\n",
        "Example:\n",
        "\n",
        "    mario()\n",
        "\n",
        "    \n",
        "    Enter a string: obaid\n",
        "        o\n",
        "       bob\n",
        "      aboba\n",
        "     iabobai\n",
        "    diabobaid\n",
        "\n",
        "Hints/reminders:\n",
        "1. You can use a `for` loop to iterate over the rows of the triangle.\n",
        "2. You can use the `*` operator to repeat a string a certain number of times (e.g., `' ' * 3` will produce `'   '`).\n",
        "3. You can use slicing to extract a substring from the input string (e.g., `'abc'[1:3]` will produce `'bc'`).\n",
        "\n",
        "\n"
      ],
      "metadata": {
        "id": "c6Zr-RZuiz9N"
      }
    },
    {
      "cell_type": "code",
      "source": [
        "# write your code here:\n",
        "def mario():\n",
        "    input_string=input('Enter the string: ')\n",
        "    n = len(input_string)\n",
        "    if n%2 == 0:\n",
        "        input_string = '*' + input_string\n",
        "        n+=1\n",
        "\n",
        "    for j in range(0 + 1, len(input_string) + 1):\n",
        "        substring = input_string[0:j]\n",
        "        reversed_substring = substring[::-1]\n",
        "        reversed_substring = reversed_substring[0:len(reversed_substring)-1]\n",
        "        print(' '*(n-j) +  reversed_substring  + substring)\n",
        "\n",
        "mario()\n"
      ],
      "metadata": {
        "id": "4xQtMHMriySf",
        "colab": {
          "base_uri": "https://localhost:8080/"
        },
        "outputId": "e2fcaf0c-2141-4377-8ceb-6ce5d0a9fc63"
      },
      "execution_count": null,
      "outputs": [
        {
          "output_type": "stream",
          "name": "stdout",
          "text": [
            "Enter the string: ab\n",
            "  *\n",
            " a*a\n",
            "ba*ab\n"
          ]
        }
      ]
    },
    {
      "cell_type": "markdown",
      "source": [
        "\n",
        "\n",
        "# Exercise: List Manipulation\n",
        "\n",
        "1. Write a function, `list_manipulation`, which will allow us to perform some simple list manipulations.\n",
        "2. Ask the user to enter a list of integers separated by spaces (e.g., `'1 2 3 4'`).\n",
        "3. Use `str.split` to break that input into a list of integers.\n",
        "4. Ask the user to enter an integer `n`.\n",
        "5. Use a `for` loop to iterate over the elements of the list.\n",
        "6. If an element is divisible by `n`, remove it from the list.\n",
        "7. Print the resulting list.\n",
        "\n",
        "Example:\n",
        "\n",
        "    list_manipulation()\n",
        "\n",
        "    Enter a list of integers: 1 2 3 4\n",
        "    Enter an integer: 2\n",
        "    [1, 3]\n",
        "\n",
        "Hints/reminders:\n",
        "1. Any string can be split on whitespace with `s.split()` -- no argument means that we'll split on any whitespace, of any length.\n",
        "2. Remember that the result of `str.split` is a list of strings.\n",
        "3. If you need to turn a string into an integer, use `int`.\n",
        "4. You can use the `remove` method to remove an element from a list.\n",
        "5. You can use the `%` operator to check if a number is divisible by another number (e.g., `4 % 2 == 0` means that 4 is divisible by 2).\n",
        "\n"
      ],
      "metadata": {
        "id": "YQN0iDJUll9y"
      }
    },
    {
      "cell_type": "code",
      "source": [
        "# write your code here:\n",
        "def list_manipulation():\n",
        "    str=input('Enter a list of integers separated by spaces ')\n",
        "    numbers = str.split()\n",
        "    n = int(input('Enter n: '))\n",
        "    for ele in numbers:\n",
        "        num = int(ele)\n",
        "        if num%n == 0:\n",
        "            continue\n",
        "        print(f\"{num}\")\n",
        "\n",
        "list_manipulation()\n",
        "\n"
      ],
      "metadata": {
        "id": "pnoDpvO4jQtb",
        "colab": {
          "base_uri": "https://localhost:8080/"
        },
        "outputId": "a9282cb5-d9c2-40ea-ec01-a0acdcbbfe68"
      },
      "execution_count": null,
      "outputs": [
        {
          "output_type": "stream",
          "name": "stdout",
          "text": [
            "Enter a list of integers separated by spaces 1 2 3 4 5\n",
            "Enter n: 3\n",
            "1\n",
            "2\n",
            "4\n",
            "5\n"
          ]
        }
      ]
    },
    {
      "cell_type": "markdown",
      "source": [
        "\n",
        "\n",
        "# Exercise: Depth First Search\n",
        "\n",
        "1. Write a function, `dfs`, which will allow you to perform a depth first search on a graph.\n",
        "2. The function should take as input a graph represented as an adjacency list, a starting node, and a target node.\n",
        "3. Use a `for` loop to iterate over the neighbors of the current node.\n",
        "4. If a neighbor has not been visited, mark it as visited and recursively call the `dfs` function on that neighbor.\n",
        "5. If the target node is found, return `True`. Otherwise, return `False`.\n",
        "6. Write another function, `input_graph`, which will allow you to input a graph from the user. The function should prompt the user to enter the number of nodes, the number of edges, and then each edge as a pair of nodes.\n",
        "\n",
        "Example:\n",
        "\n",
        "```\n",
        "Graph:\n",
        "    A\n",
        "   / \\\n",
        "  B   C\n",
        " / \\   \\\n",
        "D   E   F\n",
        "\n",
        "Adjacency list:\n",
        "{\n",
        "    'A': ['B', 'C'],\n",
        "    'B': ['D', 'E'],\n",
        "    'C': ['F'],\n",
        "    'D': [],\n",
        "    'E': [],\n",
        "    'F': []\n",
        "}\n",
        "\n",
        "DFS order: A, B, D, E, C, F\n",
        "```\n",
        "\n",
        "In this example, we have a graph with six nodes: `A`, `B`, `C`, `D`, `E`, and `F`. The edges between the nodes are represented by lines connecting them. The adjacency list representation of this graph is shown as a dictionary, where each key is a node and its value is a list of its neighbors.\n",
        "\n",
        "If we start the DFS algorithm at node `A`, we will first visit node `B` (since it is the first neighbor of `A`), then node `D` (since it is the first neighbor of `B`), then node `E` (since it is the second neighbor of `B`), then node `C` (since it is the second neighbor of `A`), and finally node `F` (since it is the only neighbor of `C`). The order in which the nodes are visited is `A`, `B`, `D`, `E`, `C`, `F`.\n",
        "\n",
        " Write two functions: `dfs` and `input_graph`. The `dfs` function should implement the DFS algorithm on a graph represented as an adjacency list. The function should take as input the graph, a starting node, and a target node. It should use a `for` loop to iterate over the neighbors of the current node and recursively call itself on any unvisited neighbors. If the target node is found, the function should return `True`. Otherwise, it should return `False`.\n",
        "\n",
        "The `input_graph` function should allow you to input a graph from the user. The function should prompt the user to enter the number of nodes and edges in the graph, and then each edge as a pair of nodes. You can use this function to create an adjacency list representation of the graph that can be passed to the `dfs` function.\n",
        "\n"
      ],
      "metadata": {
        "id": "8ph1o_7Yov8-"
      }
    },
    {
      "cell_type": "markdown",
      "source": [
        "\n",
        "\n",
        "Here's an example of what the output should look like\n",
        "\n",
        "```\n",
        "Enter the number of nodes: 6\n",
        "Enter the number of edges: 5\n",
        "Enter an edge (u v): A B\n",
        "Enter an edge (u v): A C\n",
        "Enter an edge (u v): B D\n",
        "Enter an edge (u v): B E\n",
        "Enter an edge (u v): C F\n",
        "Enter the starting node: A\n",
        "Enter the target node: F\n",
        "['A', 'B', 'D', 'E', 'C', 'F']\n",
        "```\n",
        "\n",
        "\n",
        "\n"
      ],
      "metadata": {
        "id": "PaR3b1nVq_hm"
      }
    },
    {
      "cell_type": "code",
      "source": [
        "def dfs(graph, current, target, visited=None, path=None):\n",
        "    if visited is None:\n",
        "        visited = {}\n",
        "    if path is None:\n",
        "        path = []\n",
        "\n",
        "    visited[current] = True\n",
        "    path.append(current)\n",
        "\n",
        "    if current == target:\n",
        "        return True, path\n",
        "\n",
        "    for neighbor in graph[current]:\n",
        "        if not visited.get(neighbor, False):\n",
        "            found, new_path = dfs(graph, neighbor, target, visited, path)\n",
        "            if found:\n",
        "                return True, new_path\n",
        "\n",
        "    path.pop()\n",
        "    return False, path\n",
        "\n",
        "def input_graph():\n",
        "    num_nodes = int(input(\"Enter the number of nodes: \"))\n",
        "    num_edges = int(input(\"Enter the number of edges: \"))\n",
        "\n",
        "    graph = {}\n",
        "    for _ in range(num_edges):\n",
        "        node1, node2 = input(\"Enter an edge (node1 node2): \").split()\n",
        "\n",
        "        if node1 not in graph:\n",
        "            graph[node1] = []\n",
        "        if node2 not in graph:\n",
        "            graph[node2] = []\n",
        "\n",
        "        graph[node1].append(node2)\n",
        "        graph[node2].append(node1)\n",
        "\n",
        "    return graph\n",
        "\n",
        "graph = input_graph()\n",
        "start_node = input(\"Enter the starting node: \")\n",
        "target_node = input(\"Enter the target node: \")\n",
        "\n",
        "found, path = dfs(graph, start_node, target_node)\n",
        "if found:\n",
        "    print(\"Target node found!\")\n",
        "    print(\"DFS path:\", \" -> \".join(path))\n",
        "else:\n",
        "    print(\"Target node not found.\")"
      ],
      "metadata": {
        "id": "OW_m71Mel6oJ",
        "colab": {
          "base_uri": "https://localhost:8080/"
        },
        "outputId": "4a059ec2-ef3f-4fce-bf06-acb53bef4e81"
      },
      "execution_count": null,
      "outputs": [
        {
          "output_type": "stream",
          "name": "stdout",
          "text": [
            "Enter the number of nodes: 5\n",
            "Enter the number of edges: 4\n",
            "Enter an edge (node1 node2): A B\n",
            "Enter an edge (node1 node2): B C\n",
            "Enter an edge (node1 node2): C D\n",
            "Enter an edge (node1 node2): D E\n",
            "Enter the starting node: A\n",
            "Enter the target node: E\n",
            "Target node found!\n",
            "DFS path: A -> B -> C -> D -> E\n"
          ]
        }
      ]
    }
  ]
}